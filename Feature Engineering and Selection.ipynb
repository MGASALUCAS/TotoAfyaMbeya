{
 "cells": [
  {
   "attachments": {},
   "cell_type": "markdown",
   "metadata": {},
   "source": [
    "## Feature engineering, selection and Normalization!"
   ]
  },
  {
   "attachments": {},
   "cell_type": "markdown",
   "metadata": {},
   "source": [
    "The goal of feature engineering is to create new features or transform existing ones to improve the performance of machine learning models by providing better inputs to the algorithms. \n",
    "- It involves selecting, extracting, and transforming relevant features from raw data to make them more informative and useful for modeling."
   ]
  },
  {
   "attachments": {},
   "cell_type": "markdown",
   "metadata": {},
   "source": [
    "### 1.0 Importing libraries used!"
   ]
  },
  {
   "cell_type": "code",
   "execution_count": 68,
   "metadata": {},
   "outputs": [],
   "source": [
    "#Import Library\n",
    "import warnings\n",
    "warnings.filterwarnings('ignore')\n",
    "import os\n",
    "\n",
    "\n",
    "#DataFrame Library\n",
    "import pandas as pd\n",
    "import numpy as np\n",
    "\n",
    "#Visualization Library\n",
    "import matplotlib.pyplot as plt\n",
    "import seaborn as sns\n",
    "\n",
    "# To save the model\n",
    "import joblib\n",
    "\n",
    "#Modeling Libraries.\n",
    "from sklearn.preprocessing import MinMaxScaler\n",
    "from sklearn.model_selection import train_test_split\n",
    "from sklearn.metrics import mean_squared_error, mean_absolute_error, r2_score\n",
    "from sklearn.model_selection import RandomizedSearchCV\n",
    "from sklearn.linear_model import Ridge, Lasso, ElasticNet\n",
    "from sklearn.linear_model import LinearRegression\n",
    "from sklearn.tree import DecisionTreeRegressor\n",
    "from sklearn.ensemble import RandomForestRegressor\n",
    "from sklearn.svm import SVR"
   ]
  },
  {
   "attachments": {},
   "cell_type": "markdown",
   "metadata": {},
   "source": [
    "Load the dataset from my local machine."
   ]
  },
  {
   "cell_type": "code",
   "execution_count": 69,
   "metadata": {},
   "outputs": [],
   "source": [
    "DATA_PATH = 'D:/Projects/CLIENTS/Toto Afya/'\n",
    "df = pd.read_excel(os.path.join(DATA_PATH, 'TOTO AFYA-MBEYA 2.xlsx'))"
   ]
  },
  {
   "attachments": {},
   "cell_type": "markdown",
   "metadata": {},
   "source": [
    "### 2.0 Creating New Features"
   ]
  },
  {
   "attachments": {},
   "cell_type": "markdown",
   "metadata": {},
   "source": [
    "### 2.1 Children Age Grouping!"
   ]
  },
  {
   "attachments": {},
   "cell_type": "markdown",
   "metadata": {},
   "source": [
    "Grouping Childrens Age into: \n",
    "\n",
    "- 1: Toddlers aged 0 - 2\n",
    "- 2: Preschoolers: 3-5 years old\n",
    "- 3: School-age children: 6-12 years old\n",
    "- 4: Adolescents: 13-17 years old."
   ]
  },
  {
   "cell_type": "code",
   "execution_count": 70,
   "metadata": {},
   "outputs": [
    {
     "name": "stdout",
     "output_type": "stream",
     "text": [
      "School-age children: 6-12       253\n",
      "Preschoolers: 4-5               181\n",
      "Toddlers 0-4                     85\n",
      "Adolescents: 13-17 years old     55\n",
      "Name: age_group, dtype: int64\n"
     ]
    }
   ],
   "source": [
    "# Create age groups using pd.cut()\n",
    "bins = [0,4, 6, 13, 17]  # Age group boundaries\n",
    "labels = ['Toddlers 0-4','Preschoolers: 4-5', 'School-age children: 6-12', 'Adolescents: 13-17 years old']  # Group labels\n",
    "df['age_group'] = pd.cut(df['Age'], bins=bins, labels=labels)\n",
    "\n",
    "# Check the distribution of age groups in the dataset\n",
    "print(df['age_group'].value_counts())"
   ]
  },
  {
   "attachments": {},
   "cell_type": "markdown",
   "metadata": {},
   "source": [
    "### 2.2 Regions Grouping!"
   ]
  },
  {
   "attachments": {},
   "cell_type": "markdown",
   "metadata": {},
   "source": [
    "Grouping Children into Urban , Semi-Urban and Rural areas."
   ]
  },
  {
   "cell_type": "code",
   "execution_count": 71,
   "metadata": {},
   "outputs": [
    {
     "name": "stdout",
     "output_type": "stream",
     "text": [
      "Urban         358\n",
      "Semi-Urban    111\n",
      "Rural         105\n",
      "Name: Area_Type, dtype: int64\n"
     ]
    }
   ],
   "source": [
    "# Create a dictionary to map regions to area types\n",
    "region_to_area = {\n",
    "    'Arusha': 'Semi-Urban',\n",
    "    'Dodoma': 'Semi-Urban',\n",
    "    'Geita': 'Rural',\n",
    "    'Iringa': 'Rural',\n",
    "    'Kagera': 'Rural',\n",
    "    'Kigoma': 'Rural',\n",
    "    'Kilimanjaro': 'Semi-Urban',\n",
    "    'Mara': 'Rural',\n",
    "    'Mbeya': 'Semi-Urban',\n",
    "    'Morogoro': 'Rural',\n",
    "    'Mwanza': 'Semi-Urban',\n",
    "    'Njombe': 'Rural',\n",
    "    'Pwani': 'Rural',\n",
    "    'Rukwa': 'Rural',\n",
    "    'Shinyanga': 'Rural',\n",
    "    'Singida': 'Rural',\n",
    "    'Songwe': 'Rural',\n",
    "    'Tabora': 'Rural',\n",
    "    'Tanga': 'Rural',\n",
    "    'Unguja': 'Rural',\n",
    "    'Kinondoni': 'Urban',\n",
    "    'Temeke': 'Urban',\n",
    "    'Ilala': 'Urban'\n",
    "}\n",
    "\n",
    "# Create a new column \"Area_Type\" based on the region names\n",
    "df['Area_Type'] = df['Region'].map(region_to_area)\n",
    "print(df['Area_Type'].value_counts())"
   ]
  },
  {
   "attachments": {},
   "cell_type": "markdown",
   "metadata": {},
   "source": [
    "### 2.3 Grouping Number of visits in 2021"
   ]
  },
  {
   "attachments": {},
   "cell_type": "markdown",
   "metadata": {},
   "source": [
    "Grouping number of visits to the Normal, Regular and frequent patients!"
   ]
  },
  {
   "cell_type": "code",
   "execution_count": 72,
   "metadata": {},
   "outputs": [
    {
     "name": "stdout",
     "output_type": "stream",
     "text": [
      "Normal Patient      442\n",
      "Regular Patient     119\n",
      "Frequent Patient     13\n",
      "Name: Visits Group21, dtype: int64\n"
     ]
    }
   ],
   "source": [
    "# create a new column 'Visits Group'\n",
    "bins = [0, 1, 3, 17] # define the bin edges\n",
    "labels = ['Normal Patient', 'Regular Patient', 'Frequent Patient'] # define the labels for each group\n",
    "df['Visits Group21'] = pd.cut(df['Visits Jul 21'], bins=bins, labels=labels, include_lowest=True)\n",
    "print(df['Visits Group21'].value_counts())"
   ]
  },
  {
   "attachments": {},
   "cell_type": "markdown",
   "metadata": {},
   "source": [
    "### 2.4 Grouping Number of Visits in 2022"
   ]
  },
  {
   "cell_type": "code",
   "execution_count": 73,
   "metadata": {},
   "outputs": [
    {
     "name": "stdout",
     "output_type": "stream",
     "text": [
      "Normal Patient      403\n",
      "Regular Patient     150\n",
      "Frequent Patient     21\n",
      "Name: Visits Group22, dtype: int64\n"
     ]
    }
   ],
   "source": [
    "# create a new column 'Visits Group'\n",
    "bins = [0, 1, 3, 17] # define the bin edges\n",
    "labels = ['Normal Patient', 'Regular Patient', 'Frequent Patient'] # define the labels for each group\n",
    "df['Visits Group22'] = pd.cut(df['Visits Jul 22'], bins=bins, labels=labels, include_lowest=True)\n",
    "print(df['Visits Group22'].value_counts())"
   ]
  },
  {
   "attachments": {},
   "cell_type": "markdown",
   "metadata": {},
   "source": [
    "### 3.0 Analysis of Created Dataframe!"
   ]
  },
  {
   "attachments": {},
   "cell_type": "markdown",
   "metadata": {},
   "source": [
    "Separating Categorical & Numerical Values."
   ]
  },
  {
   "cell_type": "code",
   "execution_count": 74,
   "metadata": {},
   "outputs": [],
   "source": [
    "cats = ['Gender', 'Category', 'Ownership', 'Region','age_group','Visits Group21','Visits Group22', 'Area_Type']\n",
    "nums = ['Age', 'Visits Jul 21', 'Amount Paid Jul 21', 'age_group','Area_Type','Visits Jul 22','Amount Paid Jul 22']"
   ]
  },
  {
   "cell_type": "code",
   "execution_count": 75,
   "metadata": {},
   "outputs": [
    {
     "name": "stdout",
     "output_type": "stream",
     "text": [
      "<class 'pandas.core.frame.DataFrame'>\n",
      "RangeIndex: 574 entries, 0 to 573\n",
      "Data columns (total 14 columns):\n",
      " #   Column              Non-Null Count  Dtype   \n",
      "---  ------              --------------  -----   \n",
      " 0   S/n                 574 non-null    int64   \n",
      " 1   Gender              574 non-null    object  \n",
      " 2   Age                 574 non-null    int64   \n",
      " 3   Category            574 non-null    object  \n",
      " 4   Ownership           574 non-null    object  \n",
      " 5   Region              574 non-null    object  \n",
      " 6   Visits Jul 21       574 non-null    int64   \n",
      " 7   Amount Paid Jul 21  574 non-null    int64   \n",
      " 8   Visits Jul 22       574 non-null    int64   \n",
      " 9   Amount Paid Jul 22  574 non-null    int64   \n",
      " 10  age_group           574 non-null    category\n",
      " 11  Area_Type           574 non-null    object  \n",
      " 12  Visits Group21      574 non-null    category\n",
      " 13  Visits Group22      574 non-null    category\n",
      "dtypes: category(3), int64(6), object(5)\n",
      "memory usage: 51.6+ KB\n"
     ]
    }
   ],
   "source": [
    "df.info()"
   ]
  },
  {
   "attachments": {},
   "cell_type": "markdown",
   "metadata": {},
   "source": [
    "Visulization of the first five rows of the Dataframe."
   ]
  },
  {
   "cell_type": "code",
   "execution_count": 83,
   "metadata": {},
   "outputs": [
    {
     "data": {
      "text/html": [
       "<div>\n",
       "<style scoped>\n",
       "    .dataframe tbody tr th:only-of-type {\n",
       "        vertical-align: middle;\n",
       "    }\n",
       "\n",
       "    .dataframe tbody tr th {\n",
       "        vertical-align: top;\n",
       "    }\n",
       "\n",
       "    .dataframe thead th {\n",
       "        text-align: right;\n",
       "    }\n",
       "</style>\n",
       "<table border=\"1\" class=\"dataframe\">\n",
       "  <thead>\n",
       "    <tr style=\"text-align: right;\">\n",
       "      <th></th>\n",
       "      <th>S/n</th>\n",
       "      <th>Gender</th>\n",
       "      <th>Age</th>\n",
       "      <th>Category</th>\n",
       "      <th>Ownership</th>\n",
       "      <th>Region</th>\n",
       "      <th>Visits Jul 21</th>\n",
       "      <th>Amount Paid Jul 21</th>\n",
       "      <th>Visits Jul 22</th>\n",
       "      <th>Amount Paid Jul 22</th>\n",
       "      <th>age_group</th>\n",
       "      <th>Area_Type</th>\n",
       "      <th>Visits Group21</th>\n",
       "      <th>Visits Group22</th>\n",
       "    </tr>\n",
       "  </thead>\n",
       "  <tbody>\n",
       "    <tr>\n",
       "      <th>0</th>\n",
       "      <td>1</td>\n",
       "      <td>Female</td>\n",
       "      <td>4</td>\n",
       "      <td>Specialized Clinic (Polyclinic)</td>\n",
       "      <td>Private</td>\n",
       "      <td>Temeke</td>\n",
       "      <td>1</td>\n",
       "      <td>28000</td>\n",
       "      <td>1</td>\n",
       "      <td>11600</td>\n",
       "      <td>Toddlers 0-4</td>\n",
       "      <td>Urban</td>\n",
       "      <td>Normal Patient</td>\n",
       "      <td>Normal Patient</td>\n",
       "    </tr>\n",
       "    <tr>\n",
       "      <th>1</th>\n",
       "      <td>2</td>\n",
       "      <td>Male</td>\n",
       "      <td>4</td>\n",
       "      <td>Specialized Clinic (Polyclinic)</td>\n",
       "      <td>Private</td>\n",
       "      <td>Ilala</td>\n",
       "      <td>1</td>\n",
       "      <td>31950</td>\n",
       "      <td>2</td>\n",
       "      <td>46960</td>\n",
       "      <td>Toddlers 0-4</td>\n",
       "      <td>Urban</td>\n",
       "      <td>Normal Patient</td>\n",
       "      <td>Regular Patient</td>\n",
       "    </tr>\n",
       "    <tr>\n",
       "      <th>2</th>\n",
       "      <td>3</td>\n",
       "      <td>Male</td>\n",
       "      <td>4</td>\n",
       "      <td>Health Centre</td>\n",
       "      <td>Faith Based</td>\n",
       "      <td>Morogoro</td>\n",
       "      <td>1</td>\n",
       "      <td>5350</td>\n",
       "      <td>1</td>\n",
       "      <td>3900</td>\n",
       "      <td>Toddlers 0-4</td>\n",
       "      <td>Rural</td>\n",
       "      <td>Normal Patient</td>\n",
       "      <td>Normal Patient</td>\n",
       "    </tr>\n",
       "    <tr>\n",
       "      <th>3</th>\n",
       "      <td>4</td>\n",
       "      <td>Male</td>\n",
       "      <td>4</td>\n",
       "      <td>Dispensary</td>\n",
       "      <td>Private</td>\n",
       "      <td>Unguja</td>\n",
       "      <td>1</td>\n",
       "      <td>10100</td>\n",
       "      <td>3</td>\n",
       "      <td>18460</td>\n",
       "      <td>Toddlers 0-4</td>\n",
       "      <td>Rural</td>\n",
       "      <td>Normal Patient</td>\n",
       "      <td>Regular Patient</td>\n",
       "    </tr>\n",
       "    <tr>\n",
       "      <th>4</th>\n",
       "      <td>5</td>\n",
       "      <td>Male</td>\n",
       "      <td>9</td>\n",
       "      <td>Zonal Referral Hospital</td>\n",
       "      <td>Faith Based</td>\n",
       "      <td>Kilimanjaro</td>\n",
       "      <td>2</td>\n",
       "      <td>61000</td>\n",
       "      <td>3</td>\n",
       "      <td>49700</td>\n",
       "      <td>School-age children: 6-12</td>\n",
       "      <td>Semi-Urban</td>\n",
       "      <td>Regular Patient</td>\n",
       "      <td>Regular Patient</td>\n",
       "    </tr>\n",
       "  </tbody>\n",
       "</table>\n",
       "</div>"
      ],
      "text/plain": [
       "   S/n  Gender  Age                         Category    Ownership  \\\n",
       "0    1  Female    4  Specialized Clinic (Polyclinic)      Private   \n",
       "1    2    Male    4  Specialized Clinic (Polyclinic)      Private   \n",
       "2    3    Male    4                    Health Centre  Faith Based   \n",
       "3    4    Male    4                       Dispensary      Private   \n",
       "4    5    Male    9          Zonal Referral Hospital  Faith Based   \n",
       "\n",
       "        Region  Visits Jul 21  Amount Paid Jul 21  Visits Jul 22  \\\n",
       "0       Temeke              1               28000              1   \n",
       "1        Ilala              1               31950              2   \n",
       "2     Morogoro              1                5350              1   \n",
       "3       Unguja              1               10100              3   \n",
       "4  Kilimanjaro              2               61000              3   \n",
       "\n",
       "   Amount Paid Jul 22                  age_group   Area_Type   Visits Group21  \\\n",
       "0               11600               Toddlers 0-4       Urban   Normal Patient   \n",
       "1               46960               Toddlers 0-4       Urban   Normal Patient   \n",
       "2                3900               Toddlers 0-4       Rural   Normal Patient   \n",
       "3               18460               Toddlers 0-4       Rural   Normal Patient   \n",
       "4               49700  School-age children: 6-12  Semi-Urban  Regular Patient   \n",
       "\n",
       "    Visits Group22  \n",
       "0   Normal Patient  \n",
       "1  Regular Patient  \n",
       "2   Normal Patient  \n",
       "3  Regular Patient  \n",
       "4  Regular Patient  "
      ]
     },
     "execution_count": 83,
     "metadata": {},
     "output_type": "execute_result"
    }
   ],
   "source": [
    "df.head()"
   ]
  },
  {
   "attachments": {},
   "cell_type": "markdown",
   "metadata": {},
   "source": [
    "Make a copy and save a new dataset!"
   ]
  },
  {
   "cell_type": "code",
   "execution_count": 84,
   "metadata": {},
   "outputs": [],
   "source": [
    "dfori = df.copy()\n",
    "dfori.to_csv('New Cleaned Datafile.csv', index=False)"
   ]
  },
  {
   "attachments": {},
   "cell_type": "markdown",
   "metadata": {},
   "source": []
  },
  {
   "attachments": {},
   "cell_type": "markdown",
   "metadata": {},
   "source": [
    "## 4. Data Normalization!"
   ]
  },
  {
   "attachments": {},
   "cell_type": "markdown",
   "metadata": {},
   "source": [
    "To this stage we do data normalization!"
   ]
  },
  {
   "attachments": {},
   "cell_type": "markdown",
   "metadata": {},
   "source": [
    "#### 4.1 Feature Transformation\n",
    "\n",
    "- Ordinal Encoding\n",
    "- One hot Encoding\n",
    "- Feature Encoding"
   ]
  },
  {
   "attachments": {},
   "cell_type": "markdown",
   "metadata": {},
   "source": [
    "Make a data copy first!"
   ]
  },
  {
   "cell_type": "code",
   "execution_count": 78,
   "metadata": {},
   "outputs": [],
   "source": [
    "dfori = df.copy()"
   ]
  },
  {
   "cell_type": "code",
   "execution_count": 79,
   "metadata": {},
   "outputs": [],
   "source": [
    "\n",
    "# One Hot Encoding\n",
    "Gender_ori = pd.get_dummies(dfori['Gender'], prefix = 'Gender')\n",
    "region_ori = pd.get_dummies(dfori['Region'], prefix = 'Region')\n",
    "status_ori = pd.get_dummies(dfori['Category'], prefix = 'Category')\n",
    "owner_ori = pd.get_dummies(dfori['Ownership'], prefix = 'Ownership')\n",
    "areatype_ori = pd.get_dummies(dfori['Area_Type'], prefix = 'Area_Type')\n",
    "agegroup_ori = pd.get_dummies(dfori['age_group'], prefix = 'age_group')\n",
    "visitFreq21_ori = pd.get_dummies(dfori['Visits Group21'], prefix = 'Visits Group21')\n",
    "visitFreq22_ori = pd.get_dummies(dfori['Visits Group22'], prefix = 'Visits Group22')\n",
    "\n",
    "\n",
    "\n",
    "# Concat Feature Encoding\n",
    "dfori = pd.concat([dfori, Gender_ori], axis=1)\n",
    "dfori = pd.concat([dfori, region_ori], axis=1)\n",
    "dfori = pd.concat([dfori, status_ori], axis=1)\n",
    "dfori = pd.concat([dfori, owner_ori], axis=1)\n",
    "dfori = pd.concat([dfori, areatype_ori], axis=1)\n",
    "dfori = pd.concat([dfori, agegroup_ori], axis=1)\n",
    "dfori = pd.concat([dfori, visitFreq21_ori], axis=1)\n",
    "dfori = pd.concat([dfori, visitFreq22_ori], axis=1)\n",
    "\n",
    "\n",
    "# Droping the encoded features.\n",
    "dfori = dfori.drop(columns = ['S/n','Gender', 'Region', 'Category','Ownership','Area_Type','age_group','Visits Group21','Visits Group22'])"
   ]
  },
  {
   "attachments": {},
   "cell_type": "markdown",
   "metadata": {},
   "source": [
    "4.2 Normalization (Feature Scaling)"
   ]
  },
  {
   "cell_type": "code",
   "execution_count": 80,
   "metadata": {},
   "outputs": [
    {
     "name": "stdout",
     "output_type": "stream",
     "text": [
      "Index(['Gender_Female', 'Gender_Male', 'Region_Arusha', 'Region_Dodoma',\n",
      "       'Region_Geita', 'Region_Ilala', 'Region_Iringa', 'Region_Kagera',\n",
      "       'Region_Kigoma', 'Region_Kilimanjaro', 'Region_Kinondoni',\n",
      "       'Region_Mara', 'Region_Mbeya', 'Region_Morogoro', 'Region_Mwanza',\n",
      "       'Region_Njombe', 'Region_Pwani', 'Region_Rukwa', 'Region_Shinyanga',\n",
      "       'Region_Singida', 'Region_Songwe', 'Region_Tabora', 'Region_Tanga',\n",
      "       'Region_Temeke', 'Region_Unguja', 'Category_Dispensary',\n",
      "       'Category_District Hospital', 'Category_Health Centre',\n",
      "       'Category_National Referral Hospital', 'Category_Pharmacy',\n",
      "       'Category_Regional Referral Hospital',\n",
      "       'Category_Specialized Clinic (Polyclinic)',\n",
      "       'Category_Specialized Clinics', 'Category_Zonal Referral Hospital',\n",
      "       'Ownership_Faith Based', 'Ownership_Government', 'Ownership_Private',\n",
      "       'Area_Type_Rural', 'Area_Type_Semi-Urban', 'Area_Type_Urban',\n",
      "       'age_group_Toddlers 0-4', 'age_group_Preschoolers: 4-5',\n",
      "       'age_group_School-age children: 6-12',\n",
      "       'age_group_Adolescents: 13-17 years old',\n",
      "       'Visits Group21_Normal Patient', 'Visits Group21_Regular Patient',\n",
      "       'Visits Group21_Frequent Patient', 'Visits Group22_Normal Patient',\n",
      "       'Visits Group22_Regular Patient', 'Visits Group22_Frequent Patient'],\n",
      "      dtype='object')\n"
     ]
    }
   ],
   "source": [
    "# Grouping Features for Normalization\n",
    "norm_ori = dfori.drop(columns = ['Amount Paid Jul 22','Amount Paid Jul 21','Visits Jul 22','Visits Jul 21','Age']).columns\n",
    "print(norm_ori)\n",
    "\n",
    "# Normalization Features\n",
    "for i in range(len(norm_ori)):\n",
    "    dfori[norm_ori[i]] = MinMaxScaler().fit_transform(dfori[norm_ori[i]].values.reshape(len(dfori), 1))"
   ]
  },
  {
   "attachments": {},
   "cell_type": "markdown",
   "metadata": {},
   "source": [
    "2.3 Saving the normalized file!"
   ]
  },
  {
   "cell_type": "code",
   "execution_count": 81,
   "metadata": {},
   "outputs": [],
   "source": [
    "dfori2 = dfori.copy()\n",
    "dfori2.to_csv('Normalized Dataset.csv', index=False)"
   ]
  },
  {
   "cell_type": "code",
   "execution_count": 82,
   "metadata": {},
   "outputs": [
    {
     "data": {
      "text/html": [
       "<div>\n",
       "<style scoped>\n",
       "    .dataframe tbody tr th:only-of-type {\n",
       "        vertical-align: middle;\n",
       "    }\n",
       "\n",
       "    .dataframe tbody tr th {\n",
       "        vertical-align: top;\n",
       "    }\n",
       "\n",
       "    .dataframe thead th {\n",
       "        text-align: right;\n",
       "    }\n",
       "</style>\n",
       "<table border=\"1\" class=\"dataframe\">\n",
       "  <thead>\n",
       "    <tr style=\"text-align: right;\">\n",
       "      <th></th>\n",
       "      <th>Age</th>\n",
       "      <th>Visits Jul 21</th>\n",
       "      <th>Amount Paid Jul 21</th>\n",
       "      <th>Visits Jul 22</th>\n",
       "      <th>Amount Paid Jul 22</th>\n",
       "      <th>Gender_Female</th>\n",
       "      <th>Gender_Male</th>\n",
       "      <th>Region_Arusha</th>\n",
       "      <th>Region_Dodoma</th>\n",
       "      <th>Region_Geita</th>\n",
       "      <th>...</th>\n",
       "      <th>age_group_Toddlers 0-4</th>\n",
       "      <th>age_group_Preschoolers: 4-5</th>\n",
       "      <th>age_group_School-age children: 6-12</th>\n",
       "      <th>age_group_Adolescents: 13-17 years old</th>\n",
       "      <th>Visits Group21_Normal Patient</th>\n",
       "      <th>Visits Group21_Regular Patient</th>\n",
       "      <th>Visits Group21_Frequent Patient</th>\n",
       "      <th>Visits Group22_Normal Patient</th>\n",
       "      <th>Visits Group22_Regular Patient</th>\n",
       "      <th>Visits Group22_Frequent Patient</th>\n",
       "    </tr>\n",
       "  </thead>\n",
       "  <tbody>\n",
       "    <tr>\n",
       "      <th>0</th>\n",
       "      <td>4</td>\n",
       "      <td>1</td>\n",
       "      <td>28000</td>\n",
       "      <td>1</td>\n",
       "      <td>11600</td>\n",
       "      <td>1.0</td>\n",
       "      <td>0.0</td>\n",
       "      <td>0.0</td>\n",
       "      <td>0.0</td>\n",
       "      <td>0.0</td>\n",
       "      <td>...</td>\n",
       "      <td>1.0</td>\n",
       "      <td>0.0</td>\n",
       "      <td>0.0</td>\n",
       "      <td>0.0</td>\n",
       "      <td>1.0</td>\n",
       "      <td>0.0</td>\n",
       "      <td>0.0</td>\n",
       "      <td>1.0</td>\n",
       "      <td>0.0</td>\n",
       "      <td>0.0</td>\n",
       "    </tr>\n",
       "    <tr>\n",
       "      <th>1</th>\n",
       "      <td>4</td>\n",
       "      <td>1</td>\n",
       "      <td>31950</td>\n",
       "      <td>2</td>\n",
       "      <td>46960</td>\n",
       "      <td>0.0</td>\n",
       "      <td>1.0</td>\n",
       "      <td>0.0</td>\n",
       "      <td>0.0</td>\n",
       "      <td>0.0</td>\n",
       "      <td>...</td>\n",
       "      <td>1.0</td>\n",
       "      <td>0.0</td>\n",
       "      <td>0.0</td>\n",
       "      <td>0.0</td>\n",
       "      <td>1.0</td>\n",
       "      <td>0.0</td>\n",
       "      <td>0.0</td>\n",
       "      <td>0.0</td>\n",
       "      <td>1.0</td>\n",
       "      <td>0.0</td>\n",
       "    </tr>\n",
       "    <tr>\n",
       "      <th>2</th>\n",
       "      <td>4</td>\n",
       "      <td>1</td>\n",
       "      <td>5350</td>\n",
       "      <td>1</td>\n",
       "      <td>3900</td>\n",
       "      <td>0.0</td>\n",
       "      <td>1.0</td>\n",
       "      <td>0.0</td>\n",
       "      <td>0.0</td>\n",
       "      <td>0.0</td>\n",
       "      <td>...</td>\n",
       "      <td>1.0</td>\n",
       "      <td>0.0</td>\n",
       "      <td>0.0</td>\n",
       "      <td>0.0</td>\n",
       "      <td>1.0</td>\n",
       "      <td>0.0</td>\n",
       "      <td>0.0</td>\n",
       "      <td>1.0</td>\n",
       "      <td>0.0</td>\n",
       "      <td>0.0</td>\n",
       "    </tr>\n",
       "    <tr>\n",
       "      <th>3</th>\n",
       "      <td>4</td>\n",
       "      <td>1</td>\n",
       "      <td>10100</td>\n",
       "      <td>3</td>\n",
       "      <td>18460</td>\n",
       "      <td>0.0</td>\n",
       "      <td>1.0</td>\n",
       "      <td>0.0</td>\n",
       "      <td>0.0</td>\n",
       "      <td>0.0</td>\n",
       "      <td>...</td>\n",
       "      <td>1.0</td>\n",
       "      <td>0.0</td>\n",
       "      <td>0.0</td>\n",
       "      <td>0.0</td>\n",
       "      <td>1.0</td>\n",
       "      <td>0.0</td>\n",
       "      <td>0.0</td>\n",
       "      <td>0.0</td>\n",
       "      <td>1.0</td>\n",
       "      <td>0.0</td>\n",
       "    </tr>\n",
       "    <tr>\n",
       "      <th>4</th>\n",
       "      <td>9</td>\n",
       "      <td>2</td>\n",
       "      <td>61000</td>\n",
       "      <td>3</td>\n",
       "      <td>49700</td>\n",
       "      <td>0.0</td>\n",
       "      <td>1.0</td>\n",
       "      <td>0.0</td>\n",
       "      <td>0.0</td>\n",
       "      <td>0.0</td>\n",
       "      <td>...</td>\n",
       "      <td>0.0</td>\n",
       "      <td>0.0</td>\n",
       "      <td>1.0</td>\n",
       "      <td>0.0</td>\n",
       "      <td>0.0</td>\n",
       "      <td>1.0</td>\n",
       "      <td>0.0</td>\n",
       "      <td>0.0</td>\n",
       "      <td>1.0</td>\n",
       "      <td>0.0</td>\n",
       "    </tr>\n",
       "  </tbody>\n",
       "</table>\n",
       "<p>5 rows × 55 columns</p>\n",
       "</div>"
      ],
      "text/plain": [
       "   Age  Visits Jul 21  Amount Paid Jul 21  Visits Jul 22  Amount Paid Jul 22  \\\n",
       "0    4              1               28000              1               11600   \n",
       "1    4              1               31950              2               46960   \n",
       "2    4              1                5350              1                3900   \n",
       "3    4              1               10100              3               18460   \n",
       "4    9              2               61000              3               49700   \n",
       "\n",
       "   Gender_Female  Gender_Male  Region_Arusha  Region_Dodoma  Region_Geita  \\\n",
       "0            1.0          0.0            0.0            0.0           0.0   \n",
       "1            0.0          1.0            0.0            0.0           0.0   \n",
       "2            0.0          1.0            0.0            0.0           0.0   \n",
       "3            0.0          1.0            0.0            0.0           0.0   \n",
       "4            0.0          1.0            0.0            0.0           0.0   \n",
       "\n",
       "   ...  age_group_Toddlers 0-4  age_group_Preschoolers: 4-5  \\\n",
       "0  ...                     1.0                          0.0   \n",
       "1  ...                     1.0                          0.0   \n",
       "2  ...                     1.0                          0.0   \n",
       "3  ...                     1.0                          0.0   \n",
       "4  ...                     0.0                          0.0   \n",
       "\n",
       "   age_group_School-age children: 6-12  \\\n",
       "0                                  0.0   \n",
       "1                                  0.0   \n",
       "2                                  0.0   \n",
       "3                                  0.0   \n",
       "4                                  1.0   \n",
       "\n",
       "   age_group_Adolescents: 13-17 years old  Visits Group21_Normal Patient  \\\n",
       "0                                     0.0                            1.0   \n",
       "1                                     0.0                            1.0   \n",
       "2                                     0.0                            1.0   \n",
       "3                                     0.0                            1.0   \n",
       "4                                     0.0                            0.0   \n",
       "\n",
       "   Visits Group21_Regular Patient  Visits Group21_Frequent Patient  \\\n",
       "0                             0.0                              0.0   \n",
       "1                             0.0                              0.0   \n",
       "2                             0.0                              0.0   \n",
       "3                             0.0                              0.0   \n",
       "4                             1.0                              0.0   \n",
       "\n",
       "   Visits Group22_Normal Patient  Visits Group22_Regular Patient  \\\n",
       "0                            1.0                             0.0   \n",
       "1                            0.0                             1.0   \n",
       "2                            1.0                             0.0   \n",
       "3                            0.0                             1.0   \n",
       "4                            0.0                             1.0   \n",
       "\n",
       "   Visits Group22_Frequent Patient  \n",
       "0                              0.0  \n",
       "1                              0.0  \n",
       "2                              0.0  \n",
       "3                              0.0  \n",
       "4                              0.0  \n",
       "\n",
       "[5 rows x 55 columns]"
      ]
     },
     "execution_count": 82,
     "metadata": {},
     "output_type": "execute_result"
    }
   ],
   "source": [
    "dfori2.head()"
   ]
  },
  {
   "cell_type": "code",
   "execution_count": null,
   "metadata": {},
   "outputs": [],
   "source": []
  }
 ],
 "metadata": {
  "kernelspec": {
   "display_name": "env",
   "language": "python",
   "name": "python3"
  },
  "language_info": {
   "codemirror_mode": {
    "name": "ipython",
    "version": 3
   },
   "file_extension": ".py",
   "mimetype": "text/x-python",
   "name": "python",
   "nbconvert_exporter": "python",
   "pygments_lexer": "ipython3",
   "version": "3.9.10"
  },
  "orig_nbformat": 4
 },
 "nbformat": 4,
 "nbformat_minor": 2
}
