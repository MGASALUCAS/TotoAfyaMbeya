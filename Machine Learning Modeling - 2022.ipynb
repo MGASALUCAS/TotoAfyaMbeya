{
 "cells": [
  {
   "attachments": {},
   "cell_type": "markdown",
   "metadata": {},
   "source": [
    "# Building Machine Learning Model."
   ]
  },
  {
   "attachments": {},
   "cell_type": "markdown",
   "metadata": {},
   "source": [
    "### 1.  2022  Dataset!"
   ]
  },
  {
   "attachments": {},
   "cell_type": "markdown",
   "metadata": {},
   "source": [
    "First we should load the cleaned dataset and all that will be used!"
   ]
  },
  {
   "cell_type": "code",
   "execution_count": 49,
   "metadata": {},
   "outputs": [],
   "source": [
    "import pandas as pd\n",
    "import os\n",
    "\n",
    "\n",
    "DATA_PATH = 'D:/Projects/CLIENTS/Toto Afya/'\n",
    "df = pd.read_csv(os.path.join(DATA_PATH, 'Normalized Dataset22.csv'))"
   ]
  },
  {
   "cell_type": "code",
   "execution_count": 50,
   "metadata": {},
   "outputs": [
    {
     "data": {
      "text/html": [
       "<div>\n",
       "<style scoped>\n",
       "    .dataframe tbody tr th:only-of-type {\n",
       "        vertical-align: middle;\n",
       "    }\n",
       "\n",
       "    .dataframe tbody tr th {\n",
       "        vertical-align: top;\n",
       "    }\n",
       "\n",
       "    .dataframe thead th {\n",
       "        text-align: right;\n",
       "    }\n",
       "</style>\n",
       "<table border=\"1\" class=\"dataframe\">\n",
       "  <thead>\n",
       "    <tr style=\"text-align: right;\">\n",
       "      <th></th>\n",
       "      <th>Age</th>\n",
       "      <th>Visits Jul 21</th>\n",
       "      <th>Amount Paid Jul 21</th>\n",
       "      <th>Visits Jul 22</th>\n",
       "      <th>Amount Paid Jul 22</th>\n",
       "      <th>Gender_Female</th>\n",
       "      <th>Gender_Male</th>\n",
       "      <th>Region_Arusha</th>\n",
       "      <th>Region_Dodoma</th>\n",
       "      <th>Region_Geita</th>\n",
       "      <th>...</th>\n",
       "      <th>Area_Type_Rural</th>\n",
       "      <th>Area_Type_Semi-Urban</th>\n",
       "      <th>Area_Type_Urban</th>\n",
       "      <th>age_group_Toddlers 0-4</th>\n",
       "      <th>age_group_Preschoolers: 4-5</th>\n",
       "      <th>age_group_School-age children: 6-12</th>\n",
       "      <th>age_group_Adolescents: 13-17 years old</th>\n",
       "      <th>Visits Group22_Normal Patient</th>\n",
       "      <th>Visits Group22_Regular Patient</th>\n",
       "      <th>Visits Group22_Frequent Patient</th>\n",
       "    </tr>\n",
       "  </thead>\n",
       "  <tbody>\n",
       "    <tr>\n",
       "      <th>0</th>\n",
       "      <td>4</td>\n",
       "      <td>1</td>\n",
       "      <td>28000</td>\n",
       "      <td>1</td>\n",
       "      <td>11600</td>\n",
       "      <td>1.0</td>\n",
       "      <td>0.0</td>\n",
       "      <td>0.0</td>\n",
       "      <td>0.0</td>\n",
       "      <td>0.0</td>\n",
       "      <td>...</td>\n",
       "      <td>0.0</td>\n",
       "      <td>0.0</td>\n",
       "      <td>1.0</td>\n",
       "      <td>1.0</td>\n",
       "      <td>0.0</td>\n",
       "      <td>0.0</td>\n",
       "      <td>0.0</td>\n",
       "      <td>1.0</td>\n",
       "      <td>0.0</td>\n",
       "      <td>0.0</td>\n",
       "    </tr>\n",
       "    <tr>\n",
       "      <th>1</th>\n",
       "      <td>4</td>\n",
       "      <td>1</td>\n",
       "      <td>31950</td>\n",
       "      <td>2</td>\n",
       "      <td>46960</td>\n",
       "      <td>0.0</td>\n",
       "      <td>1.0</td>\n",
       "      <td>0.0</td>\n",
       "      <td>0.0</td>\n",
       "      <td>0.0</td>\n",
       "      <td>...</td>\n",
       "      <td>0.0</td>\n",
       "      <td>0.0</td>\n",
       "      <td>1.0</td>\n",
       "      <td>1.0</td>\n",
       "      <td>0.0</td>\n",
       "      <td>0.0</td>\n",
       "      <td>0.0</td>\n",
       "      <td>0.0</td>\n",
       "      <td>1.0</td>\n",
       "      <td>0.0</td>\n",
       "    </tr>\n",
       "    <tr>\n",
       "      <th>2</th>\n",
       "      <td>4</td>\n",
       "      <td>1</td>\n",
       "      <td>5350</td>\n",
       "      <td>1</td>\n",
       "      <td>3900</td>\n",
       "      <td>0.0</td>\n",
       "      <td>1.0</td>\n",
       "      <td>0.0</td>\n",
       "      <td>0.0</td>\n",
       "      <td>0.0</td>\n",
       "      <td>...</td>\n",
       "      <td>1.0</td>\n",
       "      <td>0.0</td>\n",
       "      <td>0.0</td>\n",
       "      <td>1.0</td>\n",
       "      <td>0.0</td>\n",
       "      <td>0.0</td>\n",
       "      <td>0.0</td>\n",
       "      <td>1.0</td>\n",
       "      <td>0.0</td>\n",
       "      <td>0.0</td>\n",
       "    </tr>\n",
       "    <tr>\n",
       "      <th>3</th>\n",
       "      <td>4</td>\n",
       "      <td>1</td>\n",
       "      <td>10100</td>\n",
       "      <td>3</td>\n",
       "      <td>18460</td>\n",
       "      <td>0.0</td>\n",
       "      <td>1.0</td>\n",
       "      <td>0.0</td>\n",
       "      <td>0.0</td>\n",
       "      <td>0.0</td>\n",
       "      <td>...</td>\n",
       "      <td>1.0</td>\n",
       "      <td>0.0</td>\n",
       "      <td>0.0</td>\n",
       "      <td>1.0</td>\n",
       "      <td>0.0</td>\n",
       "      <td>0.0</td>\n",
       "      <td>0.0</td>\n",
       "      <td>0.0</td>\n",
       "      <td>1.0</td>\n",
       "      <td>0.0</td>\n",
       "    </tr>\n",
       "    <tr>\n",
       "      <th>4</th>\n",
       "      <td>9</td>\n",
       "      <td>2</td>\n",
       "      <td>61000</td>\n",
       "      <td>3</td>\n",
       "      <td>49700</td>\n",
       "      <td>0.0</td>\n",
       "      <td>1.0</td>\n",
       "      <td>0.0</td>\n",
       "      <td>0.0</td>\n",
       "      <td>0.0</td>\n",
       "      <td>...</td>\n",
       "      <td>0.0</td>\n",
       "      <td>1.0</td>\n",
       "      <td>0.0</td>\n",
       "      <td>0.0</td>\n",
       "      <td>0.0</td>\n",
       "      <td>1.0</td>\n",
       "      <td>0.0</td>\n",
       "      <td>0.0</td>\n",
       "      <td>1.0</td>\n",
       "      <td>0.0</td>\n",
       "    </tr>\n",
       "  </tbody>\n",
       "</table>\n",
       "<p>5 rows × 52 columns</p>\n",
       "</div>"
      ],
      "text/plain": [
       "   Age  Visits Jul 21  Amount Paid Jul 21  Visits Jul 22  Amount Paid Jul 22  \\\n",
       "0    4              1               28000              1               11600   \n",
       "1    4              1               31950              2               46960   \n",
       "2    4              1                5350              1                3900   \n",
       "3    4              1               10100              3               18460   \n",
       "4    9              2               61000              3               49700   \n",
       "\n",
       "   Gender_Female  Gender_Male  Region_Arusha  Region_Dodoma  Region_Geita  \\\n",
       "0            1.0          0.0            0.0            0.0           0.0   \n",
       "1            0.0          1.0            0.0            0.0           0.0   \n",
       "2            0.0          1.0            0.0            0.0           0.0   \n",
       "3            0.0          1.0            0.0            0.0           0.0   \n",
       "4            0.0          1.0            0.0            0.0           0.0   \n",
       "\n",
       "   ...  Area_Type_Rural  Area_Type_Semi-Urban  Area_Type_Urban  \\\n",
       "0  ...              0.0                   0.0              1.0   \n",
       "1  ...              0.0                   0.0              1.0   \n",
       "2  ...              1.0                   0.0              0.0   \n",
       "3  ...              1.0                   0.0              0.0   \n",
       "4  ...              0.0                   1.0              0.0   \n",
       "\n",
       "   age_group_Toddlers 0-4  age_group_Preschoolers: 4-5  \\\n",
       "0                     1.0                          0.0   \n",
       "1                     1.0                          0.0   \n",
       "2                     1.0                          0.0   \n",
       "3                     1.0                          0.0   \n",
       "4                     0.0                          0.0   \n",
       "\n",
       "   age_group_School-age children: 6-12  \\\n",
       "0                                  0.0   \n",
       "1                                  0.0   \n",
       "2                                  0.0   \n",
       "3                                  0.0   \n",
       "4                                  1.0   \n",
       "\n",
       "   age_group_Adolescents: 13-17 years old  Visits Group22_Normal Patient  \\\n",
       "0                                     0.0                            1.0   \n",
       "1                                     0.0                            0.0   \n",
       "2                                     0.0                            1.0   \n",
       "3                                     0.0                            0.0   \n",
       "4                                     0.0                            0.0   \n",
       "\n",
       "   Visits Group22_Regular Patient  Visits Group22_Frequent Patient  \n",
       "0                             0.0                              0.0  \n",
       "1                             1.0                              0.0  \n",
       "2                             0.0                              0.0  \n",
       "3                             1.0                              0.0  \n",
       "4                             1.0                              0.0  \n",
       "\n",
       "[5 rows x 52 columns]"
      ]
     },
     "execution_count": 50,
     "metadata": {},
     "output_type": "execute_result"
    }
   ],
   "source": [
    "df.head()"
   ]
  },
  {
   "attachments": {},
   "cell_type": "markdown",
   "metadata": {},
   "source": [
    "Spilliting the dataset for Training and Test Set!"
   ]
  },
  {
   "cell_type": "code",
   "execution_count": 51,
   "metadata": {},
   "outputs": [],
   "source": [
    "# #Model fitting.\n",
    "X = df.drop(['Amount Paid Jul 22','Amount Paid Jul 21','Visits Jul 21'], axis = 1)\n",
    "y = df['Amount Paid Jul 22']"
   ]
  },
  {
   "cell_type": "code",
   "execution_count": 52,
   "metadata": {},
   "outputs": [
    {
     "data": {
      "text/html": [
       "<div>\n",
       "<style scoped>\n",
       "    .dataframe tbody tr th:only-of-type {\n",
       "        vertical-align: middle;\n",
       "    }\n",
       "\n",
       "    .dataframe tbody tr th {\n",
       "        vertical-align: top;\n",
       "    }\n",
       "\n",
       "    .dataframe thead th {\n",
       "        text-align: right;\n",
       "    }\n",
       "</style>\n",
       "<table border=\"1\" class=\"dataframe\">\n",
       "  <thead>\n",
       "    <tr style=\"text-align: right;\">\n",
       "      <th></th>\n",
       "      <th>Age</th>\n",
       "      <th>Visits Jul 22</th>\n",
       "      <th>Gender_Female</th>\n",
       "      <th>Gender_Male</th>\n",
       "      <th>Region_Arusha</th>\n",
       "      <th>Region_Dodoma</th>\n",
       "      <th>Region_Geita</th>\n",
       "      <th>Region_Ilala</th>\n",
       "      <th>Region_Iringa</th>\n",
       "      <th>Region_Kagera</th>\n",
       "      <th>...</th>\n",
       "      <th>Area_Type_Rural</th>\n",
       "      <th>Area_Type_Semi-Urban</th>\n",
       "      <th>Area_Type_Urban</th>\n",
       "      <th>age_group_Toddlers 0-4</th>\n",
       "      <th>age_group_Preschoolers: 4-5</th>\n",
       "      <th>age_group_School-age children: 6-12</th>\n",
       "      <th>age_group_Adolescents: 13-17 years old</th>\n",
       "      <th>Visits Group22_Normal Patient</th>\n",
       "      <th>Visits Group22_Regular Patient</th>\n",
       "      <th>Visits Group22_Frequent Patient</th>\n",
       "    </tr>\n",
       "  </thead>\n",
       "  <tbody>\n",
       "    <tr>\n",
       "      <th>0</th>\n",
       "      <td>4</td>\n",
       "      <td>1</td>\n",
       "      <td>1.0</td>\n",
       "      <td>0.0</td>\n",
       "      <td>0.0</td>\n",
       "      <td>0.0</td>\n",
       "      <td>0.0</td>\n",
       "      <td>0.0</td>\n",
       "      <td>0.0</td>\n",
       "      <td>0.0</td>\n",
       "      <td>...</td>\n",
       "      <td>0.0</td>\n",
       "      <td>0.0</td>\n",
       "      <td>1.0</td>\n",
       "      <td>1.0</td>\n",
       "      <td>0.0</td>\n",
       "      <td>0.0</td>\n",
       "      <td>0.0</td>\n",
       "      <td>1.0</td>\n",
       "      <td>0.0</td>\n",
       "      <td>0.0</td>\n",
       "    </tr>\n",
       "    <tr>\n",
       "      <th>1</th>\n",
       "      <td>4</td>\n",
       "      <td>2</td>\n",
       "      <td>0.0</td>\n",
       "      <td>1.0</td>\n",
       "      <td>0.0</td>\n",
       "      <td>0.0</td>\n",
       "      <td>0.0</td>\n",
       "      <td>1.0</td>\n",
       "      <td>0.0</td>\n",
       "      <td>0.0</td>\n",
       "      <td>...</td>\n",
       "      <td>0.0</td>\n",
       "      <td>0.0</td>\n",
       "      <td>1.0</td>\n",
       "      <td>1.0</td>\n",
       "      <td>0.0</td>\n",
       "      <td>0.0</td>\n",
       "      <td>0.0</td>\n",
       "      <td>0.0</td>\n",
       "      <td>1.0</td>\n",
       "      <td>0.0</td>\n",
       "    </tr>\n",
       "    <tr>\n",
       "      <th>2</th>\n",
       "      <td>4</td>\n",
       "      <td>1</td>\n",
       "      <td>0.0</td>\n",
       "      <td>1.0</td>\n",
       "      <td>0.0</td>\n",
       "      <td>0.0</td>\n",
       "      <td>0.0</td>\n",
       "      <td>0.0</td>\n",
       "      <td>0.0</td>\n",
       "      <td>0.0</td>\n",
       "      <td>...</td>\n",
       "      <td>1.0</td>\n",
       "      <td>0.0</td>\n",
       "      <td>0.0</td>\n",
       "      <td>1.0</td>\n",
       "      <td>0.0</td>\n",
       "      <td>0.0</td>\n",
       "      <td>0.0</td>\n",
       "      <td>1.0</td>\n",
       "      <td>0.0</td>\n",
       "      <td>0.0</td>\n",
       "    </tr>\n",
       "    <tr>\n",
       "      <th>3</th>\n",
       "      <td>4</td>\n",
       "      <td>3</td>\n",
       "      <td>0.0</td>\n",
       "      <td>1.0</td>\n",
       "      <td>0.0</td>\n",
       "      <td>0.0</td>\n",
       "      <td>0.0</td>\n",
       "      <td>0.0</td>\n",
       "      <td>0.0</td>\n",
       "      <td>0.0</td>\n",
       "      <td>...</td>\n",
       "      <td>1.0</td>\n",
       "      <td>0.0</td>\n",
       "      <td>0.0</td>\n",
       "      <td>1.0</td>\n",
       "      <td>0.0</td>\n",
       "      <td>0.0</td>\n",
       "      <td>0.0</td>\n",
       "      <td>0.0</td>\n",
       "      <td>1.0</td>\n",
       "      <td>0.0</td>\n",
       "    </tr>\n",
       "    <tr>\n",
       "      <th>4</th>\n",
       "      <td>9</td>\n",
       "      <td>3</td>\n",
       "      <td>0.0</td>\n",
       "      <td>1.0</td>\n",
       "      <td>0.0</td>\n",
       "      <td>0.0</td>\n",
       "      <td>0.0</td>\n",
       "      <td>0.0</td>\n",
       "      <td>0.0</td>\n",
       "      <td>0.0</td>\n",
       "      <td>...</td>\n",
       "      <td>0.0</td>\n",
       "      <td>1.0</td>\n",
       "      <td>0.0</td>\n",
       "      <td>0.0</td>\n",
       "      <td>0.0</td>\n",
       "      <td>1.0</td>\n",
       "      <td>0.0</td>\n",
       "      <td>0.0</td>\n",
       "      <td>1.0</td>\n",
       "      <td>0.0</td>\n",
       "    </tr>\n",
       "  </tbody>\n",
       "</table>\n",
       "<p>5 rows × 49 columns</p>\n",
       "</div>"
      ],
      "text/plain": [
       "   Age  Visits Jul 22  Gender_Female  Gender_Male  Region_Arusha  \\\n",
       "0    4              1            1.0          0.0            0.0   \n",
       "1    4              2            0.0          1.0            0.0   \n",
       "2    4              1            0.0          1.0            0.0   \n",
       "3    4              3            0.0          1.0            0.0   \n",
       "4    9              3            0.0          1.0            0.0   \n",
       "\n",
       "   Region_Dodoma  Region_Geita  Region_Ilala  Region_Iringa  Region_Kagera  \\\n",
       "0            0.0           0.0           0.0            0.0            0.0   \n",
       "1            0.0           0.0           1.0            0.0            0.0   \n",
       "2            0.0           0.0           0.0            0.0            0.0   \n",
       "3            0.0           0.0           0.0            0.0            0.0   \n",
       "4            0.0           0.0           0.0            0.0            0.0   \n",
       "\n",
       "   ...  Area_Type_Rural  Area_Type_Semi-Urban  Area_Type_Urban  \\\n",
       "0  ...              0.0                   0.0              1.0   \n",
       "1  ...              0.0                   0.0              1.0   \n",
       "2  ...              1.0                   0.0              0.0   \n",
       "3  ...              1.0                   0.0              0.0   \n",
       "4  ...              0.0                   1.0              0.0   \n",
       "\n",
       "   age_group_Toddlers 0-4  age_group_Preschoolers: 4-5  \\\n",
       "0                     1.0                          0.0   \n",
       "1                     1.0                          0.0   \n",
       "2                     1.0                          0.0   \n",
       "3                     1.0                          0.0   \n",
       "4                     0.0                          0.0   \n",
       "\n",
       "   age_group_School-age children: 6-12  \\\n",
       "0                                  0.0   \n",
       "1                                  0.0   \n",
       "2                                  0.0   \n",
       "3                                  0.0   \n",
       "4                                  1.0   \n",
       "\n",
       "   age_group_Adolescents: 13-17 years old  Visits Group22_Normal Patient  \\\n",
       "0                                     0.0                            1.0   \n",
       "1                                     0.0                            0.0   \n",
       "2                                     0.0                            1.0   \n",
       "3                                     0.0                            0.0   \n",
       "4                                     0.0                            0.0   \n",
       "\n",
       "   Visits Group22_Regular Patient  Visits Group22_Frequent Patient  \n",
       "0                             0.0                              0.0  \n",
       "1                             1.0                              0.0  \n",
       "2                             0.0                              0.0  \n",
       "3                             1.0                              0.0  \n",
       "4                             1.0                              0.0  \n",
       "\n",
       "[5 rows x 49 columns]"
      ]
     },
     "execution_count": 52,
     "metadata": {},
     "output_type": "execute_result"
    }
   ],
   "source": [
    "X.head()"
   ]
  },
  {
   "attachments": {},
   "cell_type": "markdown",
   "metadata": {},
   "source": [
    "## 1. Linear Regression!"
   ]
  },
  {
   "attachments": {},
   "cell_type": "markdown",
   "metadata": {},
   "source": [
    "This is our initial model that was used"
   ]
  },
  {
   "cell_type": "code",
   "execution_count": 53,
   "metadata": {},
   "outputs": [
    {
     "name": "stdout",
     "output_type": "stream",
     "text": [
      "Root Mean Squared Error: 23621.778536327132\n",
      "Mean Squared Error: 557988421.2192852\n",
      "Mean Absolute Error:  16734.571939008707\n",
      "R-squared score: 0.764148917104106\n"
     ]
    }
   ],
   "source": [
    "## Importing Linear regression models.\n",
    "\n",
    "from sklearn.linear_model import LinearRegression\n",
    "from sklearn.model_selection import train_test_split\n",
    "from sklearn.metrics import r2_score, mean_squared_error, mean_absolute_error\n",
    "import numpy as np\n",
    "\n",
    "\n",
    "\n",
    "#Model fitting.\n",
    "# x = df.drop(['Amount Paid Jul 22','Gender','Category','Ownership','Region','S/n'], axis = 1)\n",
    "# y = df['Amount Paid Jul 22']\n",
    "\n",
    "# x_train, x_test, y_train, y_test = train_test_split(x, y, test_size = 0.3, random_state = 0)\n",
    "# lr = LinearRegression().fit(x_train, y_train)\n",
    "\n",
    "# #Model Prediction.\n",
    "# y_train_pred = lr.predict(x_train)\n",
    "# y_test_pred = lr.predict(x_test)\n",
    "\n",
    "# print(lr.score(x_test, y_test_pred))\n",
    "\n",
    "\n",
    "# Split the data into training and testing sets\n",
    "X_train, x_test, y_train, y_test = train_test_split(X, y, test_size=0.12, random_state=0)\n",
    "\n",
    "\n",
    "# Train a linear regression model on the training data\n",
    "model = LinearRegression()\n",
    "model.fit(X_train, y_train)\n",
    "\n",
    "# Predict the y values for the testing data\n",
    "y_pred = model.predict(x_test)\n",
    "\n",
    "# Evaluate the model using Mean Squared Error and R-squared metrics\n",
    "mseLinearRegression = mean_squared_error(y_test, y_pred)\n",
    "maeLinearRegression = mean_absolute_error(y_test, y_pred)\n",
    "rmseLinearRegression = np.sqrt(mseLinearRegression)\n",
    "\n",
    "print(f\"Root Mean Squared Error: {rmseLinearRegression}\")\n",
    "print(f\"Mean Squared Error: {mseLinearRegression}\")\n",
    "print(f'Mean Absolute Error:  {maeLinearRegression}')\n",
    "\n",
    "# Calculate the R-squared score for the model\n",
    "ScoreLinearRegresion = r2_score(y_test, y_pred)\n",
    "print(\"R-squared score:\", ScoreLinearRegresion)"
   ]
  },
  {
   "cell_type": "code",
   "execution_count": 54,
   "metadata": {},
   "outputs": [
    {
     "name": "stdout",
     "output_type": "stream",
     "text": [
      "Intercept: 30536.664289115906\n",
      "Coefficients: [-1.41041425e+03  2.06897317e+04 -1.78093617e+03  1.78093617e+03\n",
      "  9.64068834e+03 -1.72967322e+04  1.49541692e+04  2.31996489e+03\n",
      " -1.45892771e+04 -1.31681174e+04 -5.83807926e+03  7.46646763e+03\n",
      " -1.95776737e+03  4.48969388e+04 -1.68070009e+03 -2.08401188e+03\n",
      "  1.87576789e+03  3.04579053e+03  8.50933351e+02 -8.16789886e+03\n",
      " -9.28478841e+03 -7.03152222e+02 -1.12916322e+04 -2.10421702e+04\n",
      " -2.08376224e+03 -9.36472937e+02  2.50738418e+04 -2.66541680e+04\n",
      " -1.97526606e+04 -2.53863496e+04  2.15822442e+04  2.24179514e+04\n",
      "  4.98219293e+03 -3.81870846e+03  5.42809442e+03  2.12014037e+04\n",
      "  4.02328486e+03 -5.94926767e+03  1.92598281e+03  5.68783868e+02\n",
      "  5.49154714e+00 -5.74275416e+02 -1.32663185e+04 -6.08185086e+03\n",
      "  6.78655826e+03  1.25616111e+04 -1.47921001e+04 -6.73786503e+03\n",
      "  2.15299652e+04]\n"
     ]
    }
   ],
   "source": [
    "from sklearn.model_selection import train_test_split as holdout\n",
    "from sklearn.linear_model import LinearRegression\n",
    "from sklearn import metrics\n",
    "\n",
    "\n",
    "\n",
    "X_train, X_test, y_train, y_test = train_test_split(X, y, test_size=0.12, random_state=0)\n",
    "\n",
    "Lin_reg_model = LinearRegression()\n",
    "Lin_reg_model.fit(X_train, y_train)\n",
    "\n",
    "print('Intercept:', Lin_reg_model.intercept_)\n",
    "print('Coefficients:', Lin_reg_model.coef_)\n"
   ]
  },
  {
   "cell_type": "code",
   "execution_count": 55,
   "metadata": {},
   "outputs": [
    {
     "name": "stdout",
     "output_type": "stream",
     "text": [
      "MSE train data: 1.55e+09, \n",
      "MSE test data: 5.58e+08\n",
      "\n",
      "RMSE train data: 3.93e+04, \n",
      "RMSE test data: 3.93e+04\n",
      "\n",
      "R2 train data: 0.423, \n",
      "R2 test data: 0.764\n",
      "\n",
      "Model Score: 0.764148917104106\n"
     ]
    }
   ],
   "source": [
    "from sklearn.metrics import r2_score, mean_squared_error\n",
    "import numpy as np\n",
    "\n",
    "Lin_reg_model_train_pred = Lin_reg_model.predict(X_train)\n",
    "Lin_reg_model_test_pred = Lin_reg_model.predict(X_test)\n",
    "\n",
    "# Mean squared error\n",
    "Lin_reg_model_train_mse = mean_squared_error(y_train, Lin_reg_model_train_pred)\n",
    "Lin_reg_model_test_mse = mean_squared_error(y_test, Lin_reg_model_test_pred)\n",
    "print('MSE train data: {:.3}, \\nMSE test data: {:.3}\\n'.format(Lin_reg_model_train_mse, Lin_reg_model_test_mse))\n",
    "\n",
    "# Root Mean Squared error\n",
    "print('RMSE train data: {:.3}, \\nRMSE test data: {:.3}\\n'.format(\n",
    "    np.sqrt(np.absolute(Lin_reg_model_train_mse)), \n",
    "    np.sqrt(np.absolute(Lin_reg_model_train_mse))))\n",
    "\n",
    "# R^2 - coefficient of determination\n",
    "print('R2 train data: {:.3}, \\nR2 test data: {:.3}\\n'.format(\n",
    "    r2_score(y_train,Lin_reg_model_train_pred),\n",
    "    r2_score(y_test,Lin_reg_model_test_pred)))\n",
    "\n",
    "# Model Score\n",
    "print('Model Score:', Lin_reg_model.score(X_test, y_test))"
   ]
  },
  {
   "attachments": {},
   "cell_type": "markdown",
   "metadata": {},
   "source": [
    "## 2. Random Forest Regressor!"
   ]
  },
  {
   "attachments": {},
   "cell_type": "markdown",
   "metadata": {},
   "source": [
    "This is our second model that was used"
   ]
  },
  {
   "cell_type": "code",
   "execution_count": 56,
   "metadata": {},
   "outputs": [
    {
     "name": "stdout",
     "output_type": "stream",
     "text": [
      "Root Mean Squared Error: 15916.599363603491\n",
      "Mean Squared Error: 253338135.30146307\n",
      "Mean Absolute Error: 11373.76592501368\n",
      "R-squared: 0.7731537939693718\n"
     ]
    }
   ],
   "source": [
    "import pandas as pd\n",
    "from sklearn.ensemble import RandomForestRegressor\n",
    "from sklearn.model_selection import train_test_split\n",
    "from sklearn.metrics import mean_squared_error, r2_score, mean_absolute_error\n",
    "\n",
    "\n",
    "\n",
    "# Split the data into training and test sets\n",
    "X_train, X_test, y_train, y_test = train_test_split(X, y, test_size=0.10, random_state=0)\n",
    "\n",
    "# Create the Random Forest Regressor model\n",
    "model = RandomForestRegressor(n_estimators=100, random_state=42,)\n",
    "\n",
    "# Train the model on the training set\n",
    "model.fit(X_train, y_train)\n",
    "\n",
    "# Make predictions on the test set\n",
    "y_pred = model.predict(X_test)\n",
    "\n",
    "# Evaluate the model using Mean Squared Error and R-squared metrics\n",
    "mseRandomForest = mean_squared_error(y_test, y_pred)\n",
    "maeRandomForest = mean_absolute_error(y_test, y_pred)\n",
    "ScoreRandomForest = r2_score(y_test, y_pred)\n",
    "rmseRandomForest = np.sqrt(mseRandomForest)\n",
    "\n",
    "print(f\"Root Mean Squared Error: {rmseRandomForest}\")\n",
    "print(f\"Mean Squared Error: {mseRandomForest}\")\n",
    "print(f\"Mean Absolute Error: {maeRandomForest}\")\n",
    "print(f\"R-squared: {ScoreRandomForest}\")\n",
    "\n",
    "# joblib.dump(model, 'D:/Projects/CLIENTS/Toto Afya/Models/RandomRegressorModel2.pkl')"
   ]
  },
  {
   "cell_type": "code",
   "execution_count": 57,
   "metadata": {},
   "outputs": [
    {
     "name": "stdout",
     "output_type": "stream",
     "text": [
      "Root Mean Squared Error: 15916.599363603491\n",
      "Mean squared error: 253338135.30146307\n",
      "Model R^2 Score: 0.7731537939693718\n",
      "Mean absolute error: 11373.76592501368\n"
     ]
    }
   ],
   "source": [
    "# Import necessary libraries\n",
    "import pandas as pd\n",
    "from sklearn.model_selection import train_test_split\n",
    "from sklearn.ensemble import RandomForestRegressor\n",
    "from sklearn.metrics import mean_squared_error, r2_score, mean_absolute_error as mae\n",
    "\n",
    "\n",
    "# Split the data into training and testing sets\n",
    "X_train, X_test, y_train, y_test = train_test_split(X, y, test_size=0.10, random_state=0)\n",
    "\n",
    "# Initialize the model\n",
    "rf = RandomForestRegressor(n_estimators=100, random_state=42)\n",
    "\n",
    "# Fit the model to the training data\n",
    "rf.fit(X_train, y_train)\n",
    "\n",
    "# Make predictions on the testing data\n",
    "y_pred = rf.predict(X_test)\n",
    "\n",
    "# Evaluate the model performance\n",
    "mse = mean_squared_error(y_test, y_pred)\n",
    "mae_value = mae(y_test, y_pred)\n",
    "r2 = r2_score(y_test, y_pred)\n",
    "rmse = np.sqrt(mse)\n",
    "\n",
    "print(f\"Root Mean Squared Error: {rmse}\")\n",
    "print('Mean squared error:', mse)\n",
    "print('Model R^2 Score:', r2)\n",
    "print('Mean absolute error:', mae_value)\n",
    "\n",
    "\n",
    "\n",
    "# Save the model in the file\n",
    "# joblib.dump(model, 'D:/Projects/CLIENTS/Toto Afya/Models/RandomRegressorModel.pkl')"
   ]
  },
  {
   "attachments": {},
   "cell_type": "markdown",
   "metadata": {},
   "source": [
    "## 3. XGBoost "
   ]
  },
  {
   "attachments": {},
   "cell_type": "markdown",
   "metadata": {},
   "source": [
    "This is our third model that was used"
   ]
  },
  {
   "cell_type": "code",
   "execution_count": 58,
   "metadata": {},
   "outputs": [
    {
     "name": "stdout",
     "output_type": "stream",
     "text": [
      "Root Mean Squared Error: 15243.556392574534\n",
      "Mean squared error: 232366011.49359995\n",
      "Mean absolute error: 11360.71694841056\n",
      "Model R^2 Score: 0.7919328329504441\n"
     ]
    }
   ],
   "source": [
    "import pandas as pd\n",
    "import xgboost\n",
    "from sklearn.model_selection import train_test_split\n",
    "from sklearn.metrics import mean_squared_error, r2_score,mean_absolute_error as mae\n",
    "\n",
    "\n",
    "# Split the data into training and testing sets\n",
    "X_train, X_test, y_train, y_test = train_test_split(X, y, test_size=0.10, random_state=0)\n",
    "\n",
    "# Train the XGBoost regression model\n",
    "model1 = xgboost.XGBRegressor(objective='reg:squarederror', n_estimators=30, random_state=42)\n",
    "model1.fit(X_train, y_train)\n",
    "\n",
    "# Make predictions on the test set\n",
    "y_pred = model1.predict(X_test)\n",
    "\n",
    "# Evaluate the model\n",
    "mseXGboost = mean_squared_error(y_test, y_pred)\n",
    "maeXGboost = mae(y_test, y_pred)\n",
    "ScoreXGboost = r2_score(y_test, y_pred)\n",
    "rmseXGBoost = np.sqrt(mseXGboost)\n",
    "\n",
    "print(f\"Root Mean Squared Error: {rmseXGBoost}\")\n",
    "print('Mean squared error:', mseXGboost)\n",
    "print('Mean absolute error:', maeXGboost)\n",
    "print('Model R^2 Score:', ScoreXGboost)\n",
    "\n",
    "# joblib.dump(model, 'D:/Projects/CLIENTS/Toto Afya/Models/XGBoostModel.pkl')\n",
    "\n"
   ]
  },
  {
   "cell_type": "code",
   "execution_count": 59,
   "metadata": {},
   "outputs": [
    {
     "name": "stdout",
     "output_type": "stream",
     "text": [
      "[0.         0.03448276 0.01724138 0.03448276 0.         0.\n",
      " 0.         0.         0.         0.        ]\n",
      "0.008620689655172414\n"
     ]
    }
   ],
   "source": [
    "from sklearn.model_selection import ShuffleSplit, cross_val_score, KFold\n",
    "from sklearn.tree import DecisionTreeClassifier\n",
    "\n",
    "model1=DecisionTreeClassifier()\n",
    "kfold_validation=KFold(10)\n",
    "\n",
    "import numpy as np\n",
    "ssplit=ShuffleSplit(n_splits=10, test_size=0.17)\n",
    "results=cross_val_score(model1,X,y,cv=kfold_validation)\n",
    "print(results)\n",
    "print(np.mean(results))"
   ]
  },
  {
   "attachments": {},
   "cell_type": "markdown",
   "metadata": {},
   "source": [
    "## 4. Catboost"
   ]
  },
  {
   "attachments": {},
   "cell_type": "markdown",
   "metadata": {},
   "source": [
    "This is our fourth model that was used"
   ]
  },
  {
   "cell_type": "code",
   "execution_count": 60,
   "metadata": {},
   "outputs": [
    {
     "name": "stdout",
     "output_type": "stream",
     "text": [
      "0:\tlearn: 51579.6904662\ttotal: 1.04ms\tremaining: 103ms\n",
      "1:\tlearn: 50240.2474776\ttotal: 1.95ms\tremaining: 95.6ms\n",
      "2:\tlearn: 48890.2399242\ttotal: 2.94ms\tremaining: 95.1ms\n",
      "3:\tlearn: 47550.4410038\ttotal: 3.76ms\tremaining: 90.3ms\n",
      "4:\tlearn: 46609.2194716\ttotal: 4.47ms\tremaining: 84.9ms\n",
      "5:\tlearn: 45530.3200877\ttotal: 5.16ms\tremaining: 80.8ms\n",
      "6:\tlearn: 44751.3411914\ttotal: 6.01ms\tremaining: 79.8ms\n",
      "7:\tlearn: 43928.0961001\ttotal: 6.75ms\tremaining: 77.6ms\n",
      "8:\tlearn: 42964.0771178\ttotal: 7.6ms\tremaining: 76.9ms\n",
      "9:\tlearn: 42277.0040302\ttotal: 8.35ms\tremaining: 75.1ms\n",
      "10:\tlearn: 41547.0178506\ttotal: 9.05ms\tremaining: 73.2ms\n",
      "11:\tlearn: 40836.6565561\ttotal: 9.79ms\tremaining: 71.8ms\n",
      "12:\tlearn: 40217.2263758\ttotal: 11.2ms\tremaining: 75.2ms\n",
      "13:\tlearn: 39557.4072599\ttotal: 12.3ms\tremaining: 75.3ms\n",
      "14:\tlearn: 39108.1041848\ttotal: 13.6ms\tremaining: 77.3ms\n",
      "15:\tlearn: 38617.9039064\ttotal: 14.5ms\tremaining: 76.4ms\n",
      "16:\tlearn: 38442.2322965\ttotal: 15.2ms\tremaining: 74.3ms\n",
      "17:\tlearn: 37857.1345164\ttotal: 15.9ms\tremaining: 72.4ms\n",
      "18:\tlearn: 37652.9551810\ttotal: 16.6ms\tremaining: 70.8ms\n",
      "19:\tlearn: 37479.8535560\ttotal: 17ms\tremaining: 68ms\n",
      "20:\tlearn: 36986.1143786\ttotal: 17.7ms\tremaining: 66.7ms\n",
      "21:\tlearn: 36557.2008214\ttotal: 18.5ms\tremaining: 65.6ms\n",
      "22:\tlearn: 36000.9642100\ttotal: 19.1ms\tremaining: 64.1ms\n",
      "23:\tlearn: 35695.9180701\ttotal: 19.9ms\tremaining: 62.9ms\n",
      "24:\tlearn: 35638.5766773\ttotal: 20.6ms\tremaining: 61.8ms\n",
      "25:\tlearn: 35265.0402460\ttotal: 21.3ms\tremaining: 60.7ms\n",
      "26:\tlearn: 34913.6046406\ttotal: 22ms\tremaining: 59.4ms\n",
      "27:\tlearn: 34626.0230464\ttotal: 22.6ms\tremaining: 58.2ms\n",
      "28:\tlearn: 34285.7590128\ttotal: 23.4ms\tremaining: 57.3ms\n",
      "29:\tlearn: 34108.9389891\ttotal: 24.2ms\tremaining: 56.4ms\n",
      "30:\tlearn: 33986.5773379\ttotal: 25.3ms\tremaining: 56.4ms\n",
      "31:\tlearn: 33841.2846816\ttotal: 26.8ms\tremaining: 57ms\n",
      "32:\tlearn: 33438.9180760\ttotal: 27.9ms\tremaining: 56.5ms\n",
      "33:\tlearn: 33302.9565704\ttotal: 29ms\tremaining: 56.4ms\n",
      "34:\tlearn: 33030.8514013\ttotal: 29.8ms\tremaining: 55.3ms\n",
      "35:\tlearn: 32893.4848671\ttotal: 30.7ms\tremaining: 54.5ms\n",
      "36:\tlearn: 32765.2856387\ttotal: 31.8ms\tremaining: 54.1ms\n",
      "37:\tlearn: 32438.8476144\ttotal: 32.6ms\tremaining: 53.2ms\n",
      "38:\tlearn: 32331.2067750\ttotal: 33.6ms\tremaining: 52.6ms\n",
      "39:\tlearn: 32151.2619833\ttotal: 34.7ms\tremaining: 52ms\n",
      "40:\tlearn: 32102.3249978\ttotal: 35.8ms\tremaining: 51.6ms\n",
      "41:\tlearn: 31841.1110002\ttotal: 36.7ms\tremaining: 50.7ms\n",
      "42:\tlearn: 31783.8363270\ttotal: 37.4ms\tremaining: 49.6ms\n",
      "43:\tlearn: 31694.5982067\ttotal: 38.2ms\tremaining: 48.7ms\n",
      "44:\tlearn: 31625.2752150\ttotal: 39ms\tremaining: 47.7ms\n",
      "45:\tlearn: 31508.1903858\ttotal: 39.9ms\tremaining: 46.8ms\n",
      "46:\tlearn: 31432.2241900\ttotal: 41.2ms\tremaining: 46.4ms\n",
      "47:\tlearn: 31255.3099255\ttotal: 42.6ms\tremaining: 46.1ms\n",
      "48:\tlearn: 31146.8104897\ttotal: 43.7ms\tremaining: 45.4ms\n",
      "49:\tlearn: 31134.1691741\ttotal: 43.9ms\tremaining: 43.9ms\n",
      "50:\tlearn: 30870.9676673\ttotal: 44.7ms\tremaining: 42.9ms\n",
      "51:\tlearn: 30684.0435692\ttotal: 45.4ms\tremaining: 41.9ms\n",
      "52:\tlearn: 30553.9387707\ttotal: 46.2ms\tremaining: 41ms\n",
      "53:\tlearn: 30465.4272855\ttotal: 46.9ms\tremaining: 40ms\n",
      "54:\tlearn: 30156.8831460\ttotal: 47.7ms\tremaining: 39ms\n",
      "55:\tlearn: 30002.0077498\ttotal: 48.4ms\tremaining: 38.1ms\n",
      "56:\tlearn: 29824.3446307\ttotal: 49.3ms\tremaining: 37.2ms\n",
      "57:\tlearn: 29774.5967266\ttotal: 50.1ms\tremaining: 36.3ms\n",
      "58:\tlearn: 29540.2233207\ttotal: 51.1ms\tremaining: 35.5ms\n",
      "59:\tlearn: 29365.1359070\ttotal: 51.9ms\tremaining: 34.6ms\n",
      "60:\tlearn: 29139.7225699\ttotal: 52.9ms\tremaining: 33.8ms\n",
      "61:\tlearn: 28978.2640553\ttotal: 53.8ms\tremaining: 33ms\n",
      "62:\tlearn: 28794.4584189\ttotal: 55ms\tremaining: 32.3ms\n",
      "63:\tlearn: 28652.5506249\ttotal: 56.9ms\tremaining: 32ms\n",
      "64:\tlearn: 28615.1065096\ttotal: 57.7ms\tremaining: 31.1ms\n",
      "65:\tlearn: 28474.1806580\ttotal: 59ms\tremaining: 30.4ms\n",
      "66:\tlearn: 28458.8887525\ttotal: 59.9ms\tremaining: 29.5ms\n",
      "67:\tlearn: 28203.8393405\ttotal: 60.9ms\tremaining: 28.7ms\n",
      "68:\tlearn: 28069.9528228\ttotal: 61.9ms\tremaining: 27.8ms\n",
      "69:\tlearn: 27988.7635356\ttotal: 63ms\tremaining: 27ms\n",
      "70:\tlearn: 27930.2480261\ttotal: 64.1ms\tremaining: 26.2ms\n",
      "71:\tlearn: 27852.0726744\ttotal: 65.1ms\tremaining: 25.3ms\n",
      "72:\tlearn: 27599.0033857\ttotal: 66.1ms\tremaining: 24.4ms\n",
      "73:\tlearn: 27587.1403634\ttotal: 67.1ms\tremaining: 23.6ms\n",
      "74:\tlearn: 27525.5228075\ttotal: 68ms\tremaining: 22.7ms\n",
      "75:\tlearn: 27414.1734803\ttotal: 68.8ms\tremaining: 21.7ms\n",
      "76:\tlearn: 27202.1449567\ttotal: 70.1ms\tremaining: 20.9ms\n",
      "77:\tlearn: 27108.0489000\ttotal: 71.8ms\tremaining: 20.2ms\n",
      "78:\tlearn: 26929.1848426\ttotal: 72.9ms\tremaining: 19.4ms\n",
      "79:\tlearn: 26836.7248953\ttotal: 73.8ms\tremaining: 18.4ms\n",
      "80:\tlearn: 26710.3774095\ttotal: 74.4ms\tremaining: 17.5ms\n",
      "81:\tlearn: 26665.7954689\ttotal: 75.1ms\tremaining: 16.5ms\n",
      "82:\tlearn: 26463.7817888\ttotal: 76.1ms\tremaining: 15.6ms\n",
      "83:\tlearn: 26443.6885786\ttotal: 76.9ms\tremaining: 14.6ms\n",
      "84:\tlearn: 26360.3744356\ttotal: 77.7ms\tremaining: 13.7ms\n",
      "85:\tlearn: 26339.4629963\ttotal: 78.6ms\tremaining: 12.8ms\n",
      "86:\tlearn: 26257.4421134\ttotal: 79.4ms\tremaining: 11.9ms\n",
      "87:\tlearn: 26242.8757714\ttotal: 80.1ms\tremaining: 10.9ms\n",
      "88:\tlearn: 26154.8545749\ttotal: 80.8ms\tremaining: 9.99ms\n",
      "89:\tlearn: 25964.3685057\ttotal: 81.5ms\tremaining: 9.05ms\n",
      "90:\tlearn: 25955.3355081\ttotal: 82.2ms\tremaining: 8.13ms\n",
      "91:\tlearn: 25866.8389348\ttotal: 82.9ms\tremaining: 7.21ms\n",
      "92:\tlearn: 25690.1362175\ttotal: 83.6ms\tremaining: 6.29ms\n",
      "93:\tlearn: 25630.1377884\ttotal: 84.6ms\tremaining: 5.4ms\n",
      "94:\tlearn: 25568.2204633\ttotal: 86.1ms\tremaining: 4.53ms\n",
      "95:\tlearn: 25350.0763659\ttotal: 87.3ms\tremaining: 3.64ms\n",
      "96:\tlearn: 25335.6261333\ttotal: 88.1ms\tremaining: 2.72ms\n",
      "97:\tlearn: 25240.1014800\ttotal: 88.7ms\tremaining: 1.81ms\n",
      "98:\tlearn: 25010.1942197\ttotal: 89.4ms\tremaining: 902us\n",
      "99:\tlearn: 25002.7792193\ttotal: 90.1ms\tremaining: 0us\n",
      "Root Mean Squared Error: 14169.381138142217\n",
      "Mean squared error: 200771361.83794042\n",
      "Mean absolute error: 10561.701733953558\n",
      "Model R^2 Score: 0.8202235851371398\n"
     ]
    }
   ],
   "source": [
    "import pandas as pd\n",
    "from catboost import CatBoostRegressor\n",
    "from sklearn.model_selection import train_test_split\n",
    "from sklearn.metrics import mean_squared_error, r2_score, mean_absolute_error as mae\n",
    "\n",
    "\n",
    "# Split the data into features and target\n",
    "# X = df.drop(['Amount Paid Jul 22','Visits Jul 21','Amount Paid Jul 21'], axis=1)  # features\n",
    "# y = df['Amount Paid Jul 22'] # target\n",
    "\n",
    "X_train, X_test, y_train, y_test = train_test_split(X, y, test_size=0.10, random_state=0)\n",
    "\n",
    "# define the model and fit the training data\n",
    "model = CatBoostRegressor(iterations=100, learning_rate=0.1, depth=5, loss_function='RMSE')\n",
    "model.fit(X_train, y_train)\n",
    "\n",
    "# make predictions on the test data and evaluate the model\n",
    "y_pred = model.predict(X_test)\n",
    "\n",
    "# Evaluate the model\n",
    "mseCatboost = mean_squared_error(y_test, y_pred)\n",
    "maeCatboost = mae(y_test, y_pred)\n",
    "ScoreCatboost = r2_score(y_test, y_pred)\n",
    "rmseCatBoost = np.sqrt(mseCatboost)\n",
    "print(f\"Root Mean Squared Error: {rmseCatBoost}\")\n",
    "\n",
    "print('Mean squared error:', mseCatboost)\n",
    "print('Mean absolute error:', maeCatboost)\n",
    "print('Model R^2 Score:', ScoreCatboost)\n",
    "\n"
   ]
  },
  {
   "attachments": {},
   "cell_type": "markdown",
   "metadata": {},
   "source": [
    "## 5. Support Vector Machine( SVM )"
   ]
  },
  {
   "attachments": {},
   "cell_type": "markdown",
   "metadata": {},
   "source": [
    "This is our fifth model that was used"
   ]
  },
  {
   "cell_type": "code",
   "execution_count": 61,
   "metadata": {},
   "outputs": [
    {
     "name": "stdout",
     "output_type": "stream",
     "text": [
      "Root Mean Squared Error: 69735.38491923254\n",
      "Mean squared error: 4863023909.833526\n",
      "Mean Absolute Error: 22539.93825305941\n",
      "R^2 score: -0.03605087921035466\n"
     ]
    }
   ],
   "source": [
    "import pandas as pd\n",
    "from sklearn.svm import SVR\n",
    "from sklearn.preprocessing import StandardScaler\n",
    "from sklearn.model_selection import train_test_split\n",
    "from sklearn.metrics import mean_squared_error, r2_score, mean_absolute_error\n",
    "\n",
    "\n",
    "# DATA_PATH = 'D:/Projects/CLIENTS/Toto Afya/'\n",
    "# df = pd.read_excel(os.path.join(DATA_PATH, 'TOTO AFYA-MBEYA 2.xlsx'))\n",
    "\n",
    "# Split the data into features and target\n",
    "X = df.drop(['Amount Paid Jul 22','Visits Jul 22','Amount Paid Jul 21'], axis=1)  # features\n",
    "y = df['Amount Paid Jul 21'] # target\n",
    "\n",
    "# Scale the features\n",
    "scaler = StandardScaler()\n",
    "X = scaler.fit_transform(X)\n",
    "\n",
    "# Split the data into training and testing sets\n",
    "X_train, X_test, y_train, y_test = train_test_split(X, y, test_size=0.10, random_state=0)\n",
    "\n",
    "# Train the SVR model.\n",
    "model = SVR(kernel='rbf', C=1, epsilon=0.2)\n",
    "model.fit(X_train, y_train)\n",
    "\n",
    "# Make predictions on the test set\n",
    "y_pred = model.predict(X_test)\n",
    "\n",
    "# Evaluate the model\n",
    "mseSVM = mean_squared_error(y_test, y_pred)\n",
    "maeSVM = mean_absolute_error(y_test, y_pred)\n",
    "ScoreSVM = r2_score(y_test, y_pred)\n",
    "rmseSVM = np.sqrt(mseSVM)\n",
    "\n",
    "print(f\"Root Mean Squared Error: {rmseSVM}\")\n",
    "print('Mean squared error:', mseSVM)\n",
    "print('Mean Absolute Error:', maeSVM)\n",
    "print('R^2 score:', ScoreSVM)\n",
    "\n",
    "# Saving the model\n",
    "# joblib.dump(model, 'D:/Projects/CLIENTS/Toto Afya/Models/SupportVectorMachine.pkl')\n"
   ]
  },
  {
   "attachments": {},
   "cell_type": "markdown",
   "metadata": {},
   "source": [
    "### Light GBM"
   ]
  },
  {
   "cell_type": "code",
   "execution_count": 62,
   "metadata": {},
   "outputs": [
    {
     "name": "stdout",
     "output_type": "stream",
     "text": [
      "Root Mean Squared Error: 38704.078858542016\n",
      "Mean squared error: 253338135.30146307\n",
      "Mean absolute error: 21738.474043859\n",
      "Model R^2 Score: -4.383394762075982\n"
     ]
    }
   ],
   "source": [
    "from lightgbm import LGBMRegressor\n",
    "from sklearn.model_selection import train_test_split\n",
    "from sklearn.metrics import mean_squared_error, mean_absolute_error as mae, r2_score\n",
    "\n",
    "X_train, X_test, y_train, y_test = train_test_split(X, y, test_size=0.17, random_state=42)\n",
    "\n",
    "# define the model and fit the training data\n",
    "modelLGBM = LGBMRegressor(n_estimators=100, learning_rate=0.05, max_depth=10, num_leaves=31)\n",
    "modelLGBM.fit(X_train, y_train)\n",
    "\n",
    "# make predictions on the test data and evaluate the model\n",
    "y_pred = modelLGBM.predict(X_test)\n",
    "\n",
    "# Evaluate the model\n",
    "mseLGBM = mean_squared_error(y_test, y_pred)\n",
    "mae_value = mae(y_test, y_pred)\n",
    "r2 = r2_score(y_test, y_pred)\n",
    "rmseLGBM = np.sqrt(mseLGBM)\n",
    "\n",
    "print(f\"Root Mean Squared Error: {rmseLGBM}\")\n",
    "print('Mean squared error:', mse)\n",
    "print('Mean absolute error:', mae_value)\n",
    "print('Model R^2 Score:', r2)\n"
   ]
  },
  {
   "attachments": {},
   "cell_type": "markdown",
   "metadata": {},
   "source": [
    "### 6.0 Model performance evaluation"
   ]
  },
  {
   "attachments": {},
   "cell_type": "markdown",
   "metadata": {},
   "source": [
    "### 6.1 Perfomance amount paid 2021."
   ]
  },
  {
   "attachments": {},
   "cell_type": "markdown",
   "metadata": {},
   "source": [
    "Score for each model!"
   ]
  },
  {
   "cell_type": "code",
   "execution_count": 63,
   "metadata": {},
   "outputs": [
    {
     "data": {
      "image/png": "[encoded data removed]",
      "text/plain": [
       "<Figure size 640x480 with 1 Axes>"
      ]
     },
     "metadata": {},
     "output_type": "display_data"
    }
   ],
   "source": [
    "import matplotlib.pyplot as plt\n",
    "import numpy as np\n",
    "\n",
    "# define the model names and their corresponding scores\n",
    "model_names = ['LinearRegression', 'Random Forest', 'CatBoost', 'XGBoost']\n",
    "model_scores = [ScoreLinearRegresion, ScoreRandomForest, abs(ScoreCatboost), ScoreXGboost]\n",
    "\n",
    "# create a horizontal bar plot to compare the model scores\n",
    "plt.barh(model_names, model_scores, color='blue')\n",
    "\n",
    "# set the chart title and axis labels\n",
    "plt.title('Model Performance Comparison 2022')\n",
    "plt.xlabel('Score')\n",
    "plt.ylabel('Models')\n",
    "\n",
    "# set the y-axis range\n",
    "# plt.ylim([0, 1])\n",
    "\n",
    "# display the plot\n",
    "plt.show()\n"
   ]
  },
  {
   "attachments": {},
   "cell_type": "markdown",
   "metadata": {},
   "source": [
    "Mean Squared Error for each model!"
   ]
  },
  {
   "cell_type": "code",
   "execution_count": 64,
   "metadata": {},
   "outputs": [
    {
     "data": {
      "image/png": "[encoded data removed]",
      "text/plain": [
       "<Figure size 640x480 with 1 Axes>"
      ]
     },
     "metadata": {},
     "output_type": "display_data"
    }
   ],
   "source": [
    "import matplotlib.pyplot as plt\n",
    "import numpy as np\n",
    "\n",
    "# define the model names and their corresponding scores\n",
    "model_names_for_mse = ['LinearRegression', 'Random Forest', 'CatBoost', 'XGBoost']\n",
    "mean_squared_error = [mseLinearRegression, mseRandomForest, mseCatboost, mseXGboost]\n",
    "\n",
    "# create a horizontal bar plot to compare the model scores\n",
    "plt.barh(model_names_for_mse, mean_squared_error, color='green')\n",
    "\n",
    "# set the chart title and axis labels\n",
    "plt.title('Mean Squared Error for each model 2022!')\n",
    "plt.ylabel('Models')\n",
    "plt.xlabel('Mean_squared_error')\n",
    "\n",
    "# set the y-axis range\n",
    "# plt.ylim([0, 1000000000000000])\n",
    "\n",
    "# display the plot\n",
    "plt.show()"
   ]
  },
  {
   "attachments": {},
   "cell_type": "markdown",
   "metadata": {},
   "source": [
    "Mean_Absolute_error for each model!"
   ]
  },
  {
   "cell_type": "code",
   "execution_count": 65,
   "metadata": {},
   "outputs": [
    {
     "data": {
      "image/png": "[encoded data removed]",
      "text/plain": [
       "<Figure size 640x480 with 1 Axes>"
      ]
     },
     "metadata": {},
     "output_type": "display_data"
    }
   ],
   "source": [
    "import matplotlib.pyplot as plt\n",
    "import numpy as np\n",
    "\n",
    "# define the model names and their corresponding scores\n",
    "model_names_for_mse = ['LinearRegression', 'Random Forest', 'CatBoost', 'XGBoost']\n",
    "mean_squared_error = [maeLinearRegression, maeRandomForest, maeCatboost, maeXGboost]\n",
    "\n",
    "# create a horizontal bar plot to compare the model scores\n",
    "plt.barh(model_names_for_mse, mean_squared_error, color='green')\n",
    "\n",
    "# set the chart title and axis labels\n",
    "plt.title('Mean Absolute Error for each model 2022!')\n",
    "plt.xlabel('Mean Absolute Error')\n",
    "plt.ylabel('Models')\n",
    "\n",
    "# set the x-axis range\n",
    "# plt.xlim([0, 1])\n",
    "\n",
    "# display the plot\n",
    "plt.show()\n"
   ]
  },
  {
   "cell_type": "code",
   "execution_count": 66,
   "metadata": {},
   "outputs": [
    {
     "data": {
      "image/png": "[encoded data removed]",
      "text/plain": [
       "<Figure size 640x480 with 1 Axes>"
      ]
     },
     "metadata": {},
     "output_type": "display_data"
    }
   ],
   "source": [
    "import matplotlib.pyplot as plt\n",
    "import numpy as np\n",
    "\n",
    "# define the model names and their corresponding scores\n",
    "model_names_for_mse = ['LinearRegression', 'Random Forest',  'CatBoost', 'XGBoost']\n",
    "mean_squared_error = [rmseLinearRegression, rmseRandomForest, rmseCatBoost, rmseXGBoost]\n",
    "\n",
    "# create a horizontal bar plot to compare the model scores\n",
    "plt.barh(model_names_for_mse, mean_squared_error, color='green')\n",
    "\n",
    "# set the chart title and axis labels\n",
    "plt.title('Mean Squared Error for each model 2022!')\n",
    "plt.ylabel('Models')\n",
    "plt.xlabel('Mean_squared_error')\n",
    "\n",
    "# set the y-axis range\n",
    "# plt.ylim([0, 1000000000000000])\n",
    "\n",
    "# display the plot\n",
    "plt.show()"
   ]
  },
  {
   "cell_type": "code",
   "execution_count": 67,
   "metadata": {},
   "outputs": [
    {
     "name": "stdout",
     "output_type": "stream",
     "text": [
      "0.764148917104106\n"
     ]
    }
   ],
   "source": [
    "print(ScoreLinearRegresion)"
   ]
  },
  {
   "attachments": {},
   "cell_type": "markdown",
   "metadata": {},
   "source": [
    "## 7. Features Importance Ranking."
   ]
  },
  {
   "attachments": {},
   "cell_type": "markdown",
   "metadata": {},
   "source": [
    "This is a part where we need to analyze what are the most importance features after model training!"
   ]
  },
  {
   "attachments": {},
   "cell_type": "markdown",
   "metadata": {},
   "source": [
    "What are the most important features used in the model? | Important features to make predictions?"
   ]
  },
  {
   "attachments": {},
   "cell_type": "markdown",
   "metadata": {},
   "source": [
    "### 8. Model Evaluation with real data!"
   ]
  }
 ],
 "metadata": {
  "kernelspec": {
   "display_name": "env",
   "language": "python",
   "name": "python3"
  },
  "language_info": {
   "codemirror_mode": {
    "name": "ipython",
    "version": 3
   },
   "file_extension": ".py",
   "mimetype": "text/x-python",
   "name": "python",
   "nbconvert_exporter": "python",
   "pygments_lexer": "ipython3",
   "version": "3.9.10"
  },
  "orig_nbformat": 4
 },
 "nbformat": 4,
 "nbformat_minor": 2
}
