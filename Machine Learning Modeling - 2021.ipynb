{
 "cells": [
  {
   "attachments": {},
   "cell_type": "markdown",
   "metadata": {},
   "source": [
    "# Building Machine Learning Model."
   ]
  },
  {
   "attachments": {},
   "cell_type": "markdown",
   "metadata": {},
   "source": [
    "### 1.  2021  Dataset!"
   ]
  },
  {
   "attachments": {},
   "cell_type": "markdown",
   "metadata": {},
   "source": [
    "First we should load the cleaned dataset and all that will be used!"
   ]
  },
  {
   "cell_type": "code",
   "execution_count": 1,
   "metadata": {},
   "outputs": [],
   "source": [
    "import pandas as pd\n",
    "import os\n",
    "\n",
    "\n",
    "DATA_PATH = 'D:/Projects/CLIENTS/Toto Afya/'\n",
    "df = pd.read_csv(os.path.join(DATA_PATH, 'Normalized Dataset21.csv'))"
   ]
  },
  {
   "cell_type": "code",
   "execution_count": 2,
   "metadata": {},
   "outputs": [
    {
     "data": {
      "text/html": [
       "<div>\n",
       "<style scoped>\n",
       "    .dataframe tbody tr th:only-of-type {\n",
       "        vertical-align: middle;\n",
       "    }\n",
       "\n",
       "    .dataframe tbody tr th {\n",
       "        vertical-align: top;\n",
       "    }\n",
       "\n",
       "    .dataframe thead th {\n",
       "        text-align: right;\n",
       "    }\n",
       "</style>\n",
       "<table border=\"1\" class=\"dataframe\">\n",
       "  <thead>\n",
       "    <tr style=\"text-align: right;\">\n",
       "      <th></th>\n",
       "      <th>Age</th>\n",
       "      <th>Visits Jul 21</th>\n",
       "      <th>Amount Paid Jul 21</th>\n",
       "      <th>Visits Jul 22</th>\n",
       "      <th>Amount Paid Jul 22</th>\n",
       "      <th>Gender_Female</th>\n",
       "      <th>Gender_Male</th>\n",
       "      <th>Region_Arusha</th>\n",
       "      <th>Region_Dodoma</th>\n",
       "      <th>Region_Geita</th>\n",
       "      <th>...</th>\n",
       "      <th>Area_Type_Rural</th>\n",
       "      <th>Area_Type_Semi-Urban</th>\n",
       "      <th>Area_Type_Urban</th>\n",
       "      <th>age_group_Toddlers 0-4</th>\n",
       "      <th>age_group_Preschoolers: 4-5</th>\n",
       "      <th>age_group_School-age children: 6-12</th>\n",
       "      <th>age_group_Adolescents: 13-17 years old</th>\n",
       "      <th>Visits Group21_Normal Patient</th>\n",
       "      <th>Visits Group21_Regular Patient</th>\n",
       "      <th>Visits Group21_Frequent Patient</th>\n",
       "    </tr>\n",
       "  </thead>\n",
       "  <tbody>\n",
       "    <tr>\n",
       "      <th>0</th>\n",
       "      <td>4</td>\n",
       "      <td>1</td>\n",
       "      <td>28000</td>\n",
       "      <td>1</td>\n",
       "      <td>11600</td>\n",
       "      <td>1.0</td>\n",
       "      <td>0.0</td>\n",
       "      <td>0.0</td>\n",
       "      <td>0.0</td>\n",
       "      <td>0.0</td>\n",
       "      <td>...</td>\n",
       "      <td>0.0</td>\n",
       "      <td>0.0</td>\n",
       "      <td>1.0</td>\n",
       "      <td>1.0</td>\n",
       "      <td>0.0</td>\n",
       "      <td>0.0</td>\n",
       "      <td>0.0</td>\n",
       "      <td>1.0</td>\n",
       "      <td>0.0</td>\n",
       "      <td>0.0</td>\n",
       "    </tr>\n",
       "    <tr>\n",
       "      <th>1</th>\n",
       "      <td>4</td>\n",
       "      <td>1</td>\n",
       "      <td>31950</td>\n",
       "      <td>2</td>\n",
       "      <td>46960</td>\n",
       "      <td>0.0</td>\n",
       "      <td>1.0</td>\n",
       "      <td>0.0</td>\n",
       "      <td>0.0</td>\n",
       "      <td>0.0</td>\n",
       "      <td>...</td>\n",
       "      <td>0.0</td>\n",
       "      <td>0.0</td>\n",
       "      <td>1.0</td>\n",
       "      <td>1.0</td>\n",
       "      <td>0.0</td>\n",
       "      <td>0.0</td>\n",
       "      <td>0.0</td>\n",
       "      <td>1.0</td>\n",
       "      <td>0.0</td>\n",
       "      <td>0.0</td>\n",
       "    </tr>\n",
       "    <tr>\n",
       "      <th>2</th>\n",
       "      <td>4</td>\n",
       "      <td>1</td>\n",
       "      <td>5350</td>\n",
       "      <td>1</td>\n",
       "      <td>3900</td>\n",
       "      <td>0.0</td>\n",
       "      <td>1.0</td>\n",
       "      <td>0.0</td>\n",
       "      <td>0.0</td>\n",
       "      <td>0.0</td>\n",
       "      <td>...</td>\n",
       "      <td>1.0</td>\n",
       "      <td>0.0</td>\n",
       "      <td>0.0</td>\n",
       "      <td>1.0</td>\n",
       "      <td>0.0</td>\n",
       "      <td>0.0</td>\n",
       "      <td>0.0</td>\n",
       "      <td>1.0</td>\n",
       "      <td>0.0</td>\n",
       "      <td>0.0</td>\n",
       "    </tr>\n",
       "    <tr>\n",
       "      <th>3</th>\n",
       "      <td>4</td>\n",
       "      <td>1</td>\n",
       "      <td>10100</td>\n",
       "      <td>3</td>\n",
       "      <td>18460</td>\n",
       "      <td>0.0</td>\n",
       "      <td>1.0</td>\n",
       "      <td>0.0</td>\n",
       "      <td>0.0</td>\n",
       "      <td>0.0</td>\n",
       "      <td>...</td>\n",
       "      <td>1.0</td>\n",
       "      <td>0.0</td>\n",
       "      <td>0.0</td>\n",
       "      <td>1.0</td>\n",
       "      <td>0.0</td>\n",
       "      <td>0.0</td>\n",
       "      <td>0.0</td>\n",
       "      <td>1.0</td>\n",
       "      <td>0.0</td>\n",
       "      <td>0.0</td>\n",
       "    </tr>\n",
       "    <tr>\n",
       "      <th>4</th>\n",
       "      <td>9</td>\n",
       "      <td>2</td>\n",
       "      <td>61000</td>\n",
       "      <td>3</td>\n",
       "      <td>49700</td>\n",
       "      <td>0.0</td>\n",
       "      <td>1.0</td>\n",
       "      <td>0.0</td>\n",
       "      <td>0.0</td>\n",
       "      <td>0.0</td>\n",
       "      <td>...</td>\n",
       "      <td>0.0</td>\n",
       "      <td>1.0</td>\n",
       "      <td>0.0</td>\n",
       "      <td>0.0</td>\n",
       "      <td>0.0</td>\n",
       "      <td>1.0</td>\n",
       "      <td>0.0</td>\n",
       "      <td>0.0</td>\n",
       "      <td>1.0</td>\n",
       "      <td>0.0</td>\n",
       "    </tr>\n",
       "  </tbody>\n",
       "</table>\n",
       "<p>5 rows × 52 columns</p>\n",
       "</div>"
      ],
      "text/plain": [
       "   Age  Visits Jul 21  Amount Paid Jul 21  Visits Jul 22  Amount Paid Jul 22  \\\n",
       "0    4              1               28000              1               11600   \n",
       "1    4              1               31950              2               46960   \n",
       "2    4              1                5350              1                3900   \n",
       "3    4              1               10100              3               18460   \n",
       "4    9              2               61000              3               49700   \n",
       "\n",
       "   Gender_Female  Gender_Male  Region_Arusha  Region_Dodoma  Region_Geita  \\\n",
       "0            1.0          0.0            0.0            0.0           0.0   \n",
       "1            0.0          1.0            0.0            0.0           0.0   \n",
       "2            0.0          1.0            0.0            0.0           0.0   \n",
       "3            0.0          1.0            0.0            0.0           0.0   \n",
       "4            0.0          1.0            0.0            0.0           0.0   \n",
       "\n",
       "   ...  Area_Type_Rural  Area_Type_Semi-Urban  Area_Type_Urban  \\\n",
       "0  ...              0.0                   0.0              1.0   \n",
       "1  ...              0.0                   0.0              1.0   \n",
       "2  ...              1.0                   0.0              0.0   \n",
       "3  ...              1.0                   0.0              0.0   \n",
       "4  ...              0.0                   1.0              0.0   \n",
       "\n",
       "   age_group_Toddlers 0-4  age_group_Preschoolers: 4-5  \\\n",
       "0                     1.0                          0.0   \n",
       "1                     1.0                          0.0   \n",
       "2                     1.0                          0.0   \n",
       "3                     1.0                          0.0   \n",
       "4                     0.0                          0.0   \n",
       "\n",
       "   age_group_School-age children: 6-12  \\\n",
       "0                                  0.0   \n",
       "1                                  0.0   \n",
       "2                                  0.0   \n",
       "3                                  0.0   \n",
       "4                                  1.0   \n",
       "\n",
       "   age_group_Adolescents: 13-17 years old  Visits Group21_Normal Patient  \\\n",
       "0                                     0.0                            1.0   \n",
       "1                                     0.0                            1.0   \n",
       "2                                     0.0                            1.0   \n",
       "3                                     0.0                            1.0   \n",
       "4                                     0.0                            0.0   \n",
       "\n",
       "   Visits Group21_Regular Patient  Visits Group21_Frequent Patient  \n",
       "0                             0.0                              0.0  \n",
       "1                             0.0                              0.0  \n",
       "2                             0.0                              0.0  \n",
       "3                             0.0                              0.0  \n",
       "4                             1.0                              0.0  \n",
       "\n",
       "[5 rows x 52 columns]"
      ]
     },
     "execution_count": 2,
     "metadata": {},
     "output_type": "execute_result"
    }
   ],
   "source": [
    "df.head()"
   ]
  },
  {
   "attachments": {},
   "cell_type": "markdown",
   "metadata": {},
   "source": [
    "Spilliting the dataset for Training and Test Set!"
   ]
  },
  {
   "cell_type": "code",
   "execution_count": 3,
   "metadata": {},
   "outputs": [],
   "source": [
    "# #Model fitting.\n",
    "X = df.drop(['Amount Paid Jul 21','Amount Paid Jul 22','Visits Jul 22'], axis = 1)\n",
    "y = df['Amount Paid Jul 21']"
   ]
  },
  {
   "cell_type": "code",
   "execution_count": 4,
   "metadata": {},
   "outputs": [
    {
     "data": {
      "text/html": [
       "<div>\n",
       "<style scoped>\n",
       "    .dataframe tbody tr th:only-of-type {\n",
       "        vertical-align: middle;\n",
       "    }\n",
       "\n",
       "    .dataframe tbody tr th {\n",
       "        vertical-align: top;\n",
       "    }\n",
       "\n",
       "    .dataframe thead th {\n",
       "        text-align: right;\n",
       "    }\n",
       "</style>\n",
       "<table border=\"1\" class=\"dataframe\">\n",
       "  <thead>\n",
       "    <tr style=\"text-align: right;\">\n",
       "      <th></th>\n",
       "      <th>Age</th>\n",
       "      <th>Visits Jul 21</th>\n",
       "      <th>Gender_Female</th>\n",
       "      <th>Gender_Male</th>\n",
       "      <th>Region_Arusha</th>\n",
       "      <th>Region_Dodoma</th>\n",
       "      <th>Region_Geita</th>\n",
       "      <th>Region_Ilala</th>\n",
       "      <th>Region_Iringa</th>\n",
       "      <th>Region_Kagera</th>\n",
       "      <th>...</th>\n",
       "      <th>Area_Type_Rural</th>\n",
       "      <th>Area_Type_Semi-Urban</th>\n",
       "      <th>Area_Type_Urban</th>\n",
       "      <th>age_group_Toddlers 0-4</th>\n",
       "      <th>age_group_Preschoolers: 4-5</th>\n",
       "      <th>age_group_School-age children: 6-12</th>\n",
       "      <th>age_group_Adolescents: 13-17 years old</th>\n",
       "      <th>Visits Group21_Normal Patient</th>\n",
       "      <th>Visits Group21_Regular Patient</th>\n",
       "      <th>Visits Group21_Frequent Patient</th>\n",
       "    </tr>\n",
       "  </thead>\n",
       "  <tbody>\n",
       "    <tr>\n",
       "      <th>0</th>\n",
       "      <td>4</td>\n",
       "      <td>1</td>\n",
       "      <td>1.0</td>\n",
       "      <td>0.0</td>\n",
       "      <td>0.0</td>\n",
       "      <td>0.0</td>\n",
       "      <td>0.0</td>\n",
       "      <td>0.0</td>\n",
       "      <td>0.0</td>\n",
       "      <td>0.0</td>\n",
       "      <td>...</td>\n",
       "      <td>0.0</td>\n",
       "      <td>0.0</td>\n",
       "      <td>1.0</td>\n",
       "      <td>1.0</td>\n",
       "      <td>0.0</td>\n",
       "      <td>0.0</td>\n",
       "      <td>0.0</td>\n",
       "      <td>1.0</td>\n",
       "      <td>0.0</td>\n",
       "      <td>0.0</td>\n",
       "    </tr>\n",
       "    <tr>\n",
       "      <th>1</th>\n",
       "      <td>4</td>\n",
       "      <td>1</td>\n",
       "      <td>0.0</td>\n",
       "      <td>1.0</td>\n",
       "      <td>0.0</td>\n",
       "      <td>0.0</td>\n",
       "      <td>0.0</td>\n",
       "      <td>1.0</td>\n",
       "      <td>0.0</td>\n",
       "      <td>0.0</td>\n",
       "      <td>...</td>\n",
       "      <td>0.0</td>\n",
       "      <td>0.0</td>\n",
       "      <td>1.0</td>\n",
       "      <td>1.0</td>\n",
       "      <td>0.0</td>\n",
       "      <td>0.0</td>\n",
       "      <td>0.0</td>\n",
       "      <td>1.0</td>\n",
       "      <td>0.0</td>\n",
       "      <td>0.0</td>\n",
       "    </tr>\n",
       "    <tr>\n",
       "      <th>2</th>\n",
       "      <td>4</td>\n",
       "      <td>1</td>\n",
       "      <td>0.0</td>\n",
       "      <td>1.0</td>\n",
       "      <td>0.0</td>\n",
       "      <td>0.0</td>\n",
       "      <td>0.0</td>\n",
       "      <td>0.0</td>\n",
       "      <td>0.0</td>\n",
       "      <td>0.0</td>\n",
       "      <td>...</td>\n",
       "      <td>1.0</td>\n",
       "      <td>0.0</td>\n",
       "      <td>0.0</td>\n",
       "      <td>1.0</td>\n",
       "      <td>0.0</td>\n",
       "      <td>0.0</td>\n",
       "      <td>0.0</td>\n",
       "      <td>1.0</td>\n",
       "      <td>0.0</td>\n",
       "      <td>0.0</td>\n",
       "    </tr>\n",
       "    <tr>\n",
       "      <th>3</th>\n",
       "      <td>4</td>\n",
       "      <td>1</td>\n",
       "      <td>0.0</td>\n",
       "      <td>1.0</td>\n",
       "      <td>0.0</td>\n",
       "      <td>0.0</td>\n",
       "      <td>0.0</td>\n",
       "      <td>0.0</td>\n",
       "      <td>0.0</td>\n",
       "      <td>0.0</td>\n",
       "      <td>...</td>\n",
       "      <td>1.0</td>\n",
       "      <td>0.0</td>\n",
       "      <td>0.0</td>\n",
       "      <td>1.0</td>\n",
       "      <td>0.0</td>\n",
       "      <td>0.0</td>\n",
       "      <td>0.0</td>\n",
       "      <td>1.0</td>\n",
       "      <td>0.0</td>\n",
       "      <td>0.0</td>\n",
       "    </tr>\n",
       "    <tr>\n",
       "      <th>4</th>\n",
       "      <td>9</td>\n",
       "      <td>2</td>\n",
       "      <td>0.0</td>\n",
       "      <td>1.0</td>\n",
       "      <td>0.0</td>\n",
       "      <td>0.0</td>\n",
       "      <td>0.0</td>\n",
       "      <td>0.0</td>\n",
       "      <td>0.0</td>\n",
       "      <td>0.0</td>\n",
       "      <td>...</td>\n",
       "      <td>0.0</td>\n",
       "      <td>1.0</td>\n",
       "      <td>0.0</td>\n",
       "      <td>0.0</td>\n",
       "      <td>0.0</td>\n",
       "      <td>1.0</td>\n",
       "      <td>0.0</td>\n",
       "      <td>0.0</td>\n",
       "      <td>1.0</td>\n",
       "      <td>0.0</td>\n",
       "    </tr>\n",
       "  </tbody>\n",
       "</table>\n",
       "<p>5 rows × 49 columns</p>\n",
       "</div>"
      ],
      "text/plain": [
       "   Age  Visits Jul 21  Gender_Female  Gender_Male  Region_Arusha  \\\n",
       "0    4              1            1.0          0.0            0.0   \n",
       "1    4              1            0.0          1.0            0.0   \n",
       "2    4              1            0.0          1.0            0.0   \n",
       "3    4              1            0.0          1.0            0.0   \n",
       "4    9              2            0.0          1.0            0.0   \n",
       "\n",
       "   Region_Dodoma  Region_Geita  Region_Ilala  Region_Iringa  Region_Kagera  \\\n",
       "0            0.0           0.0           0.0            0.0            0.0   \n",
       "1            0.0           0.0           1.0            0.0            0.0   \n",
       "2            0.0           0.0           0.0            0.0            0.0   \n",
       "3            0.0           0.0           0.0            0.0            0.0   \n",
       "4            0.0           0.0           0.0            0.0            0.0   \n",
       "\n",
       "   ...  Area_Type_Rural  Area_Type_Semi-Urban  Area_Type_Urban  \\\n",
       "0  ...              0.0                   0.0              1.0   \n",
       "1  ...              0.0                   0.0              1.0   \n",
       "2  ...              1.0                   0.0              0.0   \n",
       "3  ...              1.0                   0.0              0.0   \n",
       "4  ...              0.0                   1.0              0.0   \n",
       "\n",
       "   age_group_Toddlers 0-4  age_group_Preschoolers: 4-5  \\\n",
       "0                     1.0                          0.0   \n",
       "1                     1.0                          0.0   \n",
       "2                     1.0                          0.0   \n",
       "3                     1.0                          0.0   \n",
       "4                     0.0                          0.0   \n",
       "\n",
       "   age_group_School-age children: 6-12  \\\n",
       "0                                  0.0   \n",
       "1                                  0.0   \n",
       "2                                  0.0   \n",
       "3                                  0.0   \n",
       "4                                  1.0   \n",
       "\n",
       "   age_group_Adolescents: 13-17 years old  Visits Group21_Normal Patient  \\\n",
       "0                                     0.0                            1.0   \n",
       "1                                     0.0                            1.0   \n",
       "2                                     0.0                            1.0   \n",
       "3                                     0.0                            1.0   \n",
       "4                                     0.0                            0.0   \n",
       "\n",
       "   Visits Group21_Regular Patient  Visits Group21_Frequent Patient  \n",
       "0                             0.0                              0.0  \n",
       "1                             0.0                              0.0  \n",
       "2                             0.0                              0.0  \n",
       "3                             0.0                              0.0  \n",
       "4                             1.0                              0.0  \n",
       "\n",
       "[5 rows x 49 columns]"
      ]
     },
     "execution_count": 4,
     "metadata": {},
     "output_type": "execute_result"
    }
   ],
   "source": [
    "X.head()"
   ]
  },
  {
   "attachments": {},
   "cell_type": "markdown",
   "metadata": {},
   "source": [
    "### 1. Decision Tree Regressor"
   ]
  },
  {
   "attachments": {},
   "cell_type": "markdown",
   "metadata": {},
   "source": [
    "This is our first model that was used!"
   ]
  },
  {
   "cell_type": "code",
   "execution_count": 5,
   "metadata": {},
   "outputs": [
    {
     "name": "stdout",
     "output_type": "stream",
     "text": [
      "Root Mean Squared Error: 27148.478371303692\n",
      "Mean Squared Error: 737039877.8771443\n",
      "Mean Absolute Error: 14249.328854996153\n",
      "R-squared: 0.89200798834843\n",
      "Training Score: 0.8996408151619182\n"
     ]
    }
   ],
   "source": [
    "from sklearn.tree import DecisionTreeRegressor\n",
    "import pandas as pd\n",
    "from sklearn.model_selection import train_test_split\n",
    "from sklearn.metrics import mean_squared_error, r2_score, mean_absolute_error as mae, mean_absolute_error\n",
    "import numpy as np\n",
    "\n",
    "# Split the data into training and testing sets\n",
    "X_train, X_test, y_train, y_test = train_test_split(X, y, test_size=0.17, random_state=0)\n",
    "\n",
    "# Initialize the model\n",
    "rf = DecisionTreeRegressor(max_depth=7, random_state=0)\n",
    "\n",
    "# Fit the model to the training data\n",
    "rf.fit(X_train, y_train)\n",
    "\n",
    "# Make predictions on the testing data\n",
    "y_pred = rf.predict(X_test)\n",
    "# x_pred = rf.predict(y_test)\n",
    "\n",
    "\n",
    "# Evaluate the model using Mean Squared Error and R-squared metrics\n",
    "mseDecisionTree = mean_squared_error(y_test, y_pred)\n",
    "maeDecisionTree = mean_absolute_error(y_test, y_pred)\n",
    "ScoreDecision = r2_score(y_test, y_pred)\n",
    "TrainingScore = rf.score(X_train,y_train)\n",
    "\n",
    "rmseDecision = np.sqrt(mseDecisionTree)\n",
    "print(f\"Root Mean Squared Error: {rmseDecision}\")\n",
    "\n",
    "print(f\"Mean Squared Error: {mseDecisionTree}\")\n",
    "print(f\"Mean Absolute Error: {maeDecisionTree}\")\n",
    "print(f\"R-squared: {ScoreDecision}\")\n",
    "print(f\"Training Score: {TrainingScore}\")\n"
   ]
  },
  {
   "attachments": {},
   "cell_type": "markdown",
   "metadata": {},
   "source": [
    "## 2. Random Forest Regressor!"
   ]
  },
  {
   "attachments": {},
   "cell_type": "markdown",
   "metadata": {},
   "source": [
    "This is our second model that was used"
   ]
  },
  {
   "cell_type": "code",
   "execution_count": 6,
   "metadata": {},
   "outputs": [
    {
     "name": "stdout",
     "output_type": "stream",
     "text": [
      "Root Mean Squared Error: 39204.759688962964\n",
      "Mean Squared Error: 1537013182.2693353\n",
      "Mean Absolute Error: 16943.268569259537\n",
      "R-squared: 0.7747948917413741\n",
      "Training Score: 0.8491087989040833\n"
     ]
    }
   ],
   "source": [
    "import pandas as pd\n",
    "from sklearn.ensemble import RandomForestRegressor\n",
    "from sklearn.model_selection import train_test_split\n",
    "from sklearn.metrics import mean_squared_error, r2_score, mean_absolute_error\n",
    "\n",
    "\n",
    "\n",
    "# Split the data into training and test sets\n",
    "X_train, X_test, y_train, y_test = train_test_split(X, y, test_size=0.17, random_state=0)\n",
    "\n",
    "# Create the Random Forest Regressor model\n",
    "model = RandomForestRegressor(n_estimators=100, random_state=42,)\n",
    "\n",
    "# Train the model on the training set\n",
    "model.fit(X_train, y_train)\n",
    "\n",
    "# Make predictions on the test set\n",
    "y_pred = model.predict(X_test)\n",
    "\n",
    "# Evaluate the model using Mean Squared Error and R-squared metrics\n",
    "mseRandomForest = mean_squared_error(y_test, y_pred)\n",
    "maeRandomForest = mean_absolute_error(y_test, y_pred)\n",
    "ScoreRandomForest = r2_score(y_test, y_pred)\n",
    "\n",
    "rmseRandomForest = np.sqrt(mseRandomForest)\n",
    "print(f\"Root Mean Squared Error: {rmseRandomForest}\")\n",
    "\n",
    "print(f\"Mean Squared Error: {mseRandomForest}\")\n",
    "print(f\"Mean Absolute Error: {maeRandomForest}\")\n",
    "print(f\"R-squared: {ScoreRandomForest}\")\n",
    "\n",
    "TrainingScore = model.score(X_train,y_train)\n",
    "print(f\"Training Score: {TrainingScore}\")\n",
    "# joblib.dump(model, 'D:/Projects/CLIENTS/Toto Afya/Models/RandomRegressorModel2.pkl')"
   ]
  },
  {
   "cell_type": "code",
   "execution_count": 7,
   "metadata": {},
   "outputs": [
    {
     "name": "stdout",
     "output_type": "stream",
     "text": [
      "Mean squared error: 1537013182.2693353\n",
      "Model R^2 Score: 0.7747948917413741\n",
      "Mean absolute error: 16943.268569259537\n",
      "Root Mean Squared Error: 39204.759688962964\n",
      "Training Score: 0.8491087989040833\n"
     ]
    }
   ],
   "source": [
    "# Import necessary libraries\n",
    "import pandas as pd\n",
    "from sklearn.model_selection import train_test_split\n",
    "from sklearn.ensemble import RandomForestRegressor\n",
    "from sklearn.metrics import mean_squared_error, r2_score, mean_absolute_error as mae\n",
    "\n",
    "\n",
    "# Split the data into training and testing sets\n",
    "X_train, X_test, y_train, y_test = train_test_split(X, y, test_size=0.17, random_state=0)\n",
    "\n",
    "# Initialize the model\n",
    "rf = RandomForestRegressor(n_estimators=100, random_state=42)\n",
    "\n",
    "# Fit the model to the training data\n",
    "rf.fit(X_train, y_train)\n",
    "\n",
    "# Make predictions on the testing data\n",
    "y_pred = rf.predict(X_test)\n",
    "\n",
    "# Evaluate the model performance\n",
    "mse = mean_squared_error(y_test, y_pred)\n",
    "mae_value = mae(y_test, y_pred)\n",
    "r2 = r2_score(y_test, y_pred)\n",
    "print('Mean squared error:', mse)\n",
    "print('Model R^2 Score:', r2)\n",
    "print('Mean absolute error:', mae_value)\n",
    "\n",
    "\n",
    "rmseRandomForest = np.sqrt(mse)\n",
    "print(f\"Root Mean Squared Error: {rmseRandomForest}\")\n",
    "\n",
    "TrainingScore = model.score(X_train,y_train)\n",
    "print(f\"Training Score: {TrainingScore}\")\n",
    "\n",
    "# Save the model in the file\n",
    "# joblib.dump(model, 'D:/Projects/CLIENTS/Toto Afya/Models/RandomRegressorModel.pkl')"
   ]
  },
  {
   "attachments": {},
   "cell_type": "markdown",
   "metadata": {},
   "source": [
    "## 3. XGBoost "
   ]
  },
  {
   "attachments": {},
   "cell_type": "markdown",
   "metadata": {},
   "source": [
    "This is our third model that was used"
   ]
  },
  {
   "cell_type": "code",
   "execution_count": 8,
   "metadata": {},
   "outputs": [
    {
     "name": "stdout",
     "output_type": "stream",
     "text": [
      "Mean squared error: 646243239.2237406\n",
      "Mean absolute error: 12134.564241370375\n",
      "Model R^2 Score: 0.9053116262569018\n",
      "Root Mean Squared Error: 25421.314663560195\n",
      "Training Score: 0.9784822310998129\n",
      "Cross Validation Accuracy: -8.03% (88.23%)\n",
      "Maximum Error: 0.9059354974766258\n"
     ]
    }
   ],
   "source": [
    "import pandas as pd\n",
    "import xgboost\n",
    "from sklearn.model_selection import train_test_split, KFold, cross_val_score\n",
    "from sklearn.metrics import mean_squared_error, r2_score,mean_absolute_error as mae, max_error, explained_variance_score\n",
    "\n",
    "\n",
    "# Split the data into training and testing sets\n",
    "X_train, X_test, y_train, y_test = train_test_split(X, y, test_size=0.17, random_state=0)\n",
    "\n",
    "# Train the XGBoost regression model\n",
    "model1 = xgboost.XGBRegressor(objective='reg:squarederror', n_estimators=30, random_state=42)\n",
    "model1.fit(X_train, y_train)\n",
    "\n",
    "# Make predictions on the test set\n",
    "y_pred = model1.predict(X_test)\n",
    "\n",
    "# Evaluate the model\n",
    "mseXGboost = mean_squared_error(y_test, y_pred)\n",
    "maeXGboost = mae(y_test, y_pred)\n",
    "ScoreXGboost = model1.score(X_test, y_test)\n",
    "print('Mean squared error:', mseXGboost)\n",
    "print('Mean absolute error:', maeXGboost)\n",
    "print('Model R^2 Score:', ScoreXGboost)\n",
    "\n",
    "rmseXGBoost = np.sqrt(mseXGboost)\n",
    "print(f\"Root Mean Squared Error: {rmseXGBoost}\")\n",
    "\n",
    "TrainingScore = model1.score(X_train,y_train)\n",
    "print(f\"Training Score: {TrainingScore}\")\n",
    "\n",
    "kfold = KFold(n_splits=10)\n",
    "results = cross_val_score(model1, X, y, cv=kfold)\n",
    "print(\"Cross Validation Accuracy: %.2f%% (%.2f%%)\" % (results.mean()*100, results.std()*100))\n",
    "\n",
    "maximumerror = explained_variance_score(y_test, y_pred)\n",
    "print(f\"Maximum Error: {maximumerror}\")\n",
    "\n",
    "# joblib.dump(model, 'D:/Projects/CLIENTS/Toto Afya/Models/XGBoostModel.pkl')\n",
    "\n"
   ]
  },
  {
   "cell_type": "code",
   "execution_count": 9,
   "metadata": {},
   "outputs": [
    {
     "name": "stdout",
     "output_type": "stream",
     "text": [
      "[0.         0.01724138 0.01724138 0.03448276 0.         0.\n",
      " 0.         0.         0.         0.        ]\n",
      "0.006896551724137931\n"
     ]
    }
   ],
   "source": [
    "from sklearn.model_selection import ShuffleSplit, cross_val_score, KFold\n",
    "from sklearn.tree import DecisionTreeClassifier\n",
    "\n",
    "model1=DecisionTreeClassifier()\n",
    "kfold_validation=KFold(10)\n",
    "\n",
    "import numpy as np\n",
    "ssplit=ShuffleSplit(n_splits=10, test_size=0.17)\n",
    "results=cross_val_score(model1,X,y,cv=kfold_validation)\n",
    "print(results)\n",
    "print(np.mean(results))"
   ]
  },
  {
   "attachments": {},
   "cell_type": "markdown",
   "metadata": {},
   "source": [
    "## 4. Catboost"
   ]
  },
  {
   "attachments": {},
   "cell_type": "markdown",
   "metadata": {},
   "source": [
    "This is our fourth model that was used"
   ]
  },
  {
   "cell_type": "code",
   "execution_count": 10,
   "metadata": {},
   "outputs": [
    {
     "name": "stdout",
     "output_type": "stream",
     "text": [
      "0:\tlearn: 74070.4888166\ttotal: 162ms\tremaining: 16s\n",
      "1:\tlearn: 71814.9571573\ttotal: 172ms\tremaining: 8.42s\n",
      "2:\tlearn: 69623.1038674\ttotal: 189ms\tremaining: 6.11s\n",
      "3:\tlearn: 67768.7009361\ttotal: 190ms\tremaining: 4.57s\n",
      "4:\tlearn: 65998.2105326\ttotal: 191ms\tremaining: 3.64s\n",
      "5:\tlearn: 64083.0209638\ttotal: 197ms\tremaining: 3.08s\n",
      "6:\tlearn: 62866.8113111\ttotal: 198ms\tremaining: 2.63s\n",
      "7:\tlearn: 61422.1905195\ttotal: 203ms\tremaining: 2.34s\n",
      "8:\tlearn: 59604.5471005\ttotal: 220ms\tremaining: 2.23s\n",
      "9:\tlearn: 57857.9608973\ttotal: 282ms\tremaining: 2.54s\n",
      "10:\tlearn: 57503.0720414\ttotal: 282ms\tremaining: 2.28s\n",
      "11:\tlearn: 56210.9166400\ttotal: 284ms\tremaining: 2.08s\n",
      "12:\tlearn: 55011.0014401\ttotal: 285ms\tremaining: 1.91s\n",
      "13:\tlearn: 53361.8419856\ttotal: 411ms\tremaining: 2.52s\n",
      "14:\tlearn: 51993.4341185\ttotal: 428ms\tremaining: 2.43s\n",
      "15:\tlearn: 50840.2059308\ttotal: 435ms\tremaining: 2.28s\n",
      "16:\tlearn: 49570.1928047\ttotal: 469ms\tremaining: 2.29s\n",
      "17:\tlearn: 48316.2859557\ttotal: 534ms\tremaining: 2.43s\n",
      "18:\tlearn: 47259.0060873\ttotal: 543ms\tremaining: 2.31s\n",
      "19:\tlearn: 46078.8430319\ttotal: 562ms\tremaining: 2.25s\n",
      "20:\tlearn: 45164.0094170\ttotal: 571ms\tremaining: 2.15s\n",
      "21:\tlearn: 44494.7920281\ttotal: 588ms\tremaining: 2.08s\n",
      "22:\tlearn: 43948.8653013\ttotal: 594ms\tremaining: 1.99s\n",
      "23:\tlearn: 43312.7796542\ttotal: 596ms\tremaining: 1.89s\n",
      "24:\tlearn: 43066.3985440\ttotal: 596ms\tremaining: 1.79s\n",
      "25:\tlearn: 42265.9795417\ttotal: 615ms\tremaining: 1.75s\n",
      "26:\tlearn: 41601.2099473\ttotal: 617ms\tremaining: 1.67s\n",
      "27:\tlearn: 40805.7151314\ttotal: 683ms\tremaining: 1.75s\n",
      "28:\tlearn: 40321.3327192\ttotal: 686ms\tremaining: 1.68s\n",
      "29:\tlearn: 39414.0143099\ttotal: 815ms\tremaining: 1.9s\n",
      "30:\tlearn: 38921.4206907\ttotal: 824ms\tremaining: 1.83s\n",
      "31:\tlearn: 38094.4807667\ttotal: 1.09s\tremaining: 2.31s\n",
      "32:\tlearn: 37842.1485245\ttotal: 1.09s\tremaining: 2.21s\n",
      "33:\tlearn: 37334.0619009\ttotal: 1.09s\tremaining: 2.12s\n",
      "34:\tlearn: 36949.5528019\ttotal: 1.16s\tremaining: 2.15s\n",
      "35:\tlearn: 36250.0137990\ttotal: 1.28s\tremaining: 2.28s\n",
      "36:\tlearn: 35430.4700064\ttotal: 1.35s\tremaining: 2.3s\n",
      "37:\tlearn: 34733.3165128\ttotal: 1.36s\tremaining: 2.22s\n",
      "38:\tlearn: 34335.9490243\ttotal: 1.36s\tremaining: 2.13s\n",
      "39:\tlearn: 33705.4823898\ttotal: 1.37s\tremaining: 2.06s\n",
      "40:\tlearn: 33352.3094769\ttotal: 1.38s\tremaining: 1.98s\n",
      "41:\tlearn: 32725.2936063\ttotal: 1.41s\tremaining: 1.95s\n",
      "42:\tlearn: 32506.9741163\ttotal: 1.41s\tremaining: 1.87s\n",
      "43:\tlearn: 31739.8037581\ttotal: 1.54s\tremaining: 1.96s\n",
      "44:\tlearn: 30987.2003566\ttotal: 1.66s\tremaining: 2.03s\n",
      "45:\tlearn: 30688.6636728\ttotal: 1.68s\tremaining: 1.97s\n",
      "46:\tlearn: 29954.4171038\ttotal: 1.74s\tremaining: 1.96s\n",
      "47:\tlearn: 29378.1376750\ttotal: 2.29s\tremaining: 2.48s\n",
      "48:\tlearn: 28719.9138094\ttotal: 2.36s\tremaining: 2.45s\n",
      "49:\tlearn: 28070.1991078\ttotal: 2.61s\tremaining: 2.61s\n",
      "50:\tlearn: 27392.7942014\ttotal: 3.13s\tremaining: 3s\n",
      "51:\tlearn: 27196.3142109\ttotal: 3.13s\tremaining: 2.89s\n",
      "52:\tlearn: 26552.9611941\ttotal: 3.38s\tremaining: 3s\n",
      "53:\tlearn: 26132.8642058\ttotal: 3.45s\tremaining: 2.94s\n",
      "54:\tlearn: 25828.9777180\ttotal: 3.45s\tremaining: 2.82s\n",
      "55:\tlearn: 25355.1290243\ttotal: 3.52s\tremaining: 2.76s\n",
      "56:\tlearn: 25095.9756677\ttotal: 3.54s\tremaining: 2.67s\n",
      "57:\tlearn: 24568.7328029\ttotal: 4.04s\tremaining: 2.93s\n",
      "58:\tlearn: 24420.4146738\ttotal: 4.05s\tremaining: 2.81s\n",
      "59:\tlearn: 24126.8747596\ttotal: 4.06s\tremaining: 2.7s\n",
      "60:\tlearn: 23918.3488372\ttotal: 4.06s\tremaining: 2.6s\n",
      "61:\tlearn: 23483.3952432\ttotal: 4.56s\tremaining: 2.79s\n",
      "62:\tlearn: 22933.6971701\ttotal: 5.07s\tremaining: 2.98s\n",
      "63:\tlearn: 22721.8313868\ttotal: 5.09s\tremaining: 2.86s\n",
      "64:\tlearn: 22490.9988418\ttotal: 5.1s\tremaining: 2.74s\n",
      "65:\tlearn: 22035.2322337\ttotal: 5.22s\tremaining: 2.69s\n",
      "66:\tlearn: 21529.6380223\ttotal: 5.46s\tremaining: 2.69s\n",
      "67:\tlearn: 21260.4250440\ttotal: 5.48s\tremaining: 2.58s\n",
      "68:\tlearn: 20821.4969376\ttotal: 5.73s\tremaining: 2.57s\n",
      "69:\tlearn: 20429.3549242\ttotal: 6.22s\tremaining: 2.67s\n",
      "70:\tlearn: 20051.7727065\ttotal: 6.35s\tremaining: 2.59s\n",
      "71:\tlearn: 19863.7194263\ttotal: 6.36s\tremaining: 2.47s\n",
      "72:\tlearn: 19732.7406615\ttotal: 6.37s\tremaining: 2.35s\n",
      "73:\tlearn: 19666.4764255\ttotal: 6.37s\tremaining: 2.24s\n",
      "74:\tlearn: 19358.6730201\ttotal: 6.86s\tremaining: 2.29s\n",
      "75:\tlearn: 19136.9788602\ttotal: 7.43s\tremaining: 2.35s\n",
      "76:\tlearn: 18833.3169231\ttotal: 7.96s\tremaining: 2.38s\n",
      "77:\tlearn: 18403.9588216\ttotal: 8.47s\tremaining: 2.39s\n",
      "78:\tlearn: 18329.0732106\ttotal: 8.48s\tremaining: 2.25s\n",
      "79:\tlearn: 17952.1504837\ttotal: 9.04s\tremaining: 2.26s\n",
      "80:\tlearn: 17819.7413102\ttotal: 9.05s\tremaining: 2.12s\n",
      "81:\tlearn: 17470.2494612\ttotal: 9.95s\tremaining: 2.18s\n",
      "82:\tlearn: 17103.0253326\ttotal: 10.5s\tremaining: 2.16s\n",
      "83:\tlearn: 16741.0118601\ttotal: 11.1s\tremaining: 2.11s\n",
      "84:\tlearn: 16380.5554698\ttotal: 11.6s\tremaining: 2.04s\n",
      "85:\tlearn: 16161.1128815\ttotal: 12.1s\tremaining: 1.97s\n",
      "86:\tlearn: 15948.0452708\ttotal: 12.6s\tremaining: 1.89s\n",
      "87:\tlearn: 15632.2812591\ttotal: 13.2s\tremaining: 1.8s\n",
      "88:\tlearn: 15300.5772260\ttotal: 13.9s\tremaining: 1.72s\n",
      "89:\tlearn: 14982.4098794\ttotal: 14.8s\tremaining: 1.64s\n",
      "90:\tlearn: 14694.2423748\ttotal: 15.5s\tremaining: 1.54s\n",
      "91:\tlearn: 14415.6416762\ttotal: 16.3s\tremaining: 1.42s\n",
      "92:\tlearn: 14117.3041114\ttotal: 16.9s\tremaining: 1.27s\n",
      "93:\tlearn: 13903.7221864\ttotal: 17.6s\tremaining: 1.12s\n",
      "94:\tlearn: 13821.5380677\ttotal: 17.6s\tremaining: 925ms\n",
      "95:\tlearn: 13541.9875183\ttotal: 18.2s\tremaining: 756ms\n",
      "96:\tlearn: 13300.1105699\ttotal: 18.8s\tremaining: 582ms\n",
      "97:\tlearn: 13057.7338520\ttotal: 19.4s\tremaining: 396ms\n",
      "98:\tlearn: 12816.0660567\ttotal: 20s\tremaining: 202ms\n",
      "99:\tlearn: 12580.2066415\ttotal: 20.6s\tremaining: 0us\n",
      "Mean squared error: 456225123.0615784\n",
      "Mean absolute error: 12903.880211503516\n",
      "Model R^2 Score: -0.6395397591302872\n",
      "Root Mean Squared Error: 21359.427030273502\n",
      "Training Score: 0.9729741434803656\n"
     ]
    }
   ],
   "source": [
    "import pandas as pd\n",
    "from catboost import CatBoostRegressor\n",
    "from sklearn.model_selection import train_test_split\n",
    "from sklearn.metrics import mean_squared_error, r2_score, mean_absolute_error as mae\n",
    "\n",
    "\n",
    "# Split the data into features and target\n",
    "X = df.drop(['Amount Paid Jul 22','Visits Jul 22','Amount Paid Jul 21'], axis=1)  # features\n",
    "y = df['Amount Paid Jul 21'] # target\n",
    "\n",
    "X_train, X_test, y_train, y_test = train_test_split(X, y, test_size=0.17, random_state=42)\n",
    "\n",
    "# define the model and fit the training data\n",
    "model = CatBoostRegressor(iterations=100, learning_rate=0.1, depth=16)\n",
    "model.fit(X_train, y_train)\n",
    "\n",
    "# make predictions on the test data and evaluate the model\n",
    "y_pred = model.predict(X_test)\n",
    "\n",
    "# Evaluate the model\n",
    "mseCatboost = mean_squared_error(y_test, y_pred)\n",
    "maeCatboost = mae(y_test, y_pred)\n",
    "ScoreCatboost = r2_score(y_test, y_pred)\n",
    "\n",
    "\n",
    "print('Mean squared error:', mseCatboost)\n",
    "print('Mean absolute error:', maeCatboost)\n",
    "print('Model R^2 Score:', ScoreCatboost)\n",
    "\n",
    "rmseCatBoost = np.sqrt(mseCatboost)\n",
    "print(f\"Root Mean Squared Error: {rmseCatBoost}\")\n",
    "\n",
    "TrainingScore = model.score(X_train,y_train)\n",
    "print(f\"Training Score: {TrainingScore}\")\n",
    "\n"
   ]
  },
  {
   "attachments": {},
   "cell_type": "markdown",
   "metadata": {},
   "source": [
    "## 5. Support Vector Machine( SVM )"
   ]
  },
  {
   "attachments": {},
   "cell_type": "markdown",
   "metadata": {},
   "source": [
    "This is our fifth model that was used"
   ]
  },
  {
   "cell_type": "code",
   "execution_count": 11,
   "metadata": {},
   "outputs": [
    {
     "name": "stdout",
     "output_type": "stream",
     "text": [
      "Mean squared error: 286421702.60664016\n",
      "Mean Absolute Error: 11764.828936606118\n",
      "R^2 score: -0.029315891571350283\n",
      "Root Mean Squared Error: 16923.997831677956\n"
     ]
    }
   ],
   "source": [
    "import pandas as pd\n",
    "from sklearn.svm import SVR\n",
    "from sklearn.preprocessing import StandardScaler\n",
    "from sklearn.model_selection import train_test_split\n",
    "from sklearn.metrics import mean_squared_error, r2_score, mean_absolute_error\n",
    "\n",
    "\n",
    "\n",
    "# Split the data into features and target\n",
    "X = df.drop(['Amount Paid Jul 22','Visits Jul 22','Amount Paid Jul 21'], axis=1)  # features\n",
    "y = df['Amount Paid Jul 21'] # target\n",
    "\n",
    "# Scale the features\n",
    "scaler = StandardScaler()\n",
    "X = scaler.fit_transform(X)\n",
    "\n",
    "# Split the data into training and testing sets\n",
    "X_train, X_test, y_train, y_test = train_test_split(X, y, test_size=0.17, random_state=42)\n",
    "\n",
    "# Train the SVR model.\n",
    "model = SVR(kernel='rbf', C=1, epsilon=0.2)\n",
    "model.fit(X_train, y_train)\n",
    "\n",
    "# Make predictions on the test set\n",
    "y_pred = model.predict(X_test)\n",
    "\n",
    "# Evaluate the model\n",
    "mseSVM = mean_squared_error(y_test, y_pred)\n",
    "maeSVM = mean_absolute_error(y_test, y_pred)\n",
    "ScoreSVM = r2_score(y_test, y_pred)\n",
    "\n",
    "print('Mean squared error:', mseSVM)\n",
    "print('Mean Absolute Error:', maeSVM)\n",
    "print('R^2 score:', ScoreSVM)\n",
    "\n",
    "rmseSVM = np.sqrt(mseSVM)\n",
    "print(f\"Root Mean Squared Error: {rmseSVM}\")\n",
    "\n",
    "\n",
    "# Saving the model\n",
    "# joblib.dump(model, 'D:/Projects/CLIENTS/Toto Afya/Models/SupportVectorMachine.pkl')\n"
   ]
  },
  {
   "attachments": {},
   "cell_type": "markdown",
   "metadata": {},
   "source": [
    "### Light GBM"
   ]
  },
  {
   "cell_type": "code",
   "execution_count": 12,
   "metadata": {},
   "outputs": [
    {
     "name": "stdout",
     "output_type": "stream",
     "text": [
      "Mean squared error: 1790097029.0858696\n",
      "Mean absolute error: 21403.54509719796\n",
      "Model R^2 Score: 0.7377127275944959\n",
      "Root Mean Squared Error: 42309.53827549847\n"
     ]
    }
   ],
   "source": [
    "from lightgbm import LGBMRegressor\n",
    "from sklearn.model_selection import train_test_split\n",
    "from sklearn.metrics import mean_squared_error, mean_absolute_error as mae, r2_score\n",
    "\n",
    "X_train, X_test, y_train, y_test = train_test_split(X, y, test_size=0.17, random_state=0)\n",
    "\n",
    "# define the model and fit the training data\n",
    "modelLGBM = LGBMRegressor(n_estimators=1000, learning_rate=0.05, max_depth=16, num_leaves=31)\n",
    "modelLGBM.fit(X_train, y_train)\n",
    "\n",
    "# make predictions on the test data and evaluate the model\n",
    "y_pred = modelLGBM.predict(X_test)\n",
    "\n",
    "# Evaluate the model\n",
    "mseLGBM = mean_squared_error(y_test, y_pred)\n",
    "maeLGBM = mae(y_test, y_pred)\n",
    "ScoreLGBM = r2_score(y_test, y_pred)\n",
    "\n",
    "print('Mean squared error:', mseLGBM)\n",
    "print('Mean absolute error:', maeLGBM)\n",
    "print('Model R^2 Score:', ScoreLGBM)\n",
    "\n",
    "rmseLGBM = np.sqrt(mseLGBM)\n",
    "print(f\"Root Mean Squared Error: {rmseLGBM}\")\n"
   ]
  },
  {
   "attachments": {},
   "cell_type": "markdown",
   "metadata": {},
   "source": [
    "### 6.0 Model performance evaluation"
   ]
  },
  {
   "attachments": {},
   "cell_type": "markdown",
   "metadata": {},
   "source": [
    "### 6.1 Perfomance amount paid 2021."
   ]
  },
  {
   "attachments": {},
   "cell_type": "markdown",
   "metadata": {},
   "source": [
    "Score for each model!"
   ]
  },
  {
   "cell_type": "code",
   "execution_count": 13,
   "metadata": {},
   "outputs": [
    {
     "data": {
      "image/png": "[encoded data removed]",
      "text/plain": [
       "<Figure size 640x480 with 1 Axes>"
      ]
     },
     "metadata": {},
     "output_type": "display_data"
    }
   ],
   "source": [
    "import matplotlib.pyplot as plt\n",
    "import numpy as np\n",
    "\n",
    "# define the model names and their corresponding scores\n",
    "model_names = ['DecisionTree', 'Random Forest', 'LGBM', 'XGBoost']\n",
    "model_scores = [ScoreDecision, ScoreRandomForest, ScoreLGBM, ScoreXGboost]\n",
    "\n",
    "# create a horiontal bar plot to compare the model scores\n",
    "plt.barh(model_names, model_scores, color='blue')\n",
    "\n",
    "# set the chart title and axis labels\n",
    "plt.title('Model Performance Comparison 2021')\n",
    "plt.xlabel('Score')\n",
    "plt.ylabel('Models')\n",
    "\n",
    "\n",
    "# display the plot\n",
    "plt.show()\n"
   ]
  },
  {
   "attachments": {},
   "cell_type": "markdown",
   "metadata": {},
   "source": [
    "Mean Squared Error for each model!"
   ]
  },
  {
   "cell_type": "code",
   "execution_count": 14,
   "metadata": {},
   "outputs": [
    {
     "data": {
      "image/png": "[encoded data removed]",
      "text/plain": [
       "<Figure size 640x480 with 1 Axes>"
      ]
     },
     "metadata": {},
     "output_type": "display_data"
    }
   ],
   "source": [
    "import matplotlib.pyplot as plt\n",
    "import numpy as np\n",
    "\n",
    "# define the model names and their corresponding scores\n",
    "model_names_for_mse = ['DecisionTree', 'Random Forest', 'LGBM', 'XGBoost']\n",
    "mean_squared_error = [mseDecisionTree, mseRandomForest, mseLGBM, mseXGboost]\n",
    "\n",
    "# create a horizontal bar plot to compare the model scores\n",
    "plt.barh(model_names_for_mse, mean_squared_error, color='green')\n",
    "\n",
    "# set the chart title and axis labels\n",
    "plt.title('Mean Squared Error for each model 2021!')\n",
    "plt.ylabel('Models')\n",
    "plt.xlabel('Mean_squared_error')\n",
    "\n",
    "\n",
    "# display the plot\n",
    "plt.show()"
   ]
  },
  {
   "attachments": {},
   "cell_type": "markdown",
   "metadata": {},
   "source": [
    "Mean_Absolute_error for each model!"
   ]
  },
  {
   "cell_type": "code",
   "execution_count": 15,
   "metadata": {},
   "outputs": [
    {
     "data": {
      "image/png": "[encoded data removed]",
      "text/plain": [
       "<Figure size 640x480 with 1 Axes>"
      ]
     },
     "metadata": {},
     "output_type": "display_data"
    }
   ],
   "source": [
    "import matplotlib.pyplot as plt\n",
    "import numpy as np\n",
    "\n",
    "# define the model names and their corresponding scores\n",
    "model_names_for_mse = ['DecisionTree', 'Random Forest', 'LGBM', 'XGBoost']\n",
    "mean_squared_error = [maeDecisionTree, maeRandomForest, maeLGBM, maeXGboost]\n",
    "\n",
    "# create a horizontal bar plot to compare the model scores\n",
    "plt.barh(model_names_for_mse, mean_squared_error, color='green')\n",
    "\n",
    "# set the chart title and axis labels\n",
    "plt.title('Mean Absolute Error for each model 2021!')\n",
    "plt.ylabel('Models')\n",
    "plt.xlabel('Mean Absolute Error')\n",
    "\n",
    "\n",
    "# display the plot\n",
    "plt.show()"
   ]
  },
  {
   "cell_type": "code",
   "execution_count": 16,
   "metadata": {},
   "outputs": [
    {
     "data": {
      "image/png": "[encoded data removed]",
      "text/plain": [
       "<Figure size 640x480 with 1 Axes>"
      ]
     },
     "metadata": {},
     "output_type": "display_data"
    }
   ],
   "source": [
    "import matplotlib.pyplot as plt\n",
    "import numpy as np\n",
    "\n",
    "# define the model names and their corresponding scores\n",
    "model_names_for_mse = ['DecisionTree', 'Random Forest', 'LGBM', 'XGBoost']\n",
    "mean_squared_error = [rmseDecision, rmseRandomForest, rmseLGBM, rmseXGBoost]\n",
    "\n",
    "# create a horizontal bar plot to compare the model scores\n",
    "plt.barh(model_names_for_mse, mean_squared_error, color='green')\n",
    "\n",
    "# set the chart title and axis labels\n",
    "plt.title('Root Mean Squared Error for each model in 2021!')\n",
    "plt.ylabel('Models')\n",
    "plt.xlabel('Mean_squared_error')\n",
    "\n",
    "\n",
    "# display the plot\n",
    "plt.show()"
   ]
  },
  {
   "cell_type": "code",
   "execution_count": 17,
   "metadata": {},
   "outputs": [
    {
     "name": "stdout",
     "output_type": "stream",
     "text": [
      "0.89200798834843\n"
     ]
    }
   ],
   "source": [
    "print(ScoreDecision)"
   ]
  },
  {
   "attachments": {},
   "cell_type": "markdown",
   "metadata": {},
   "source": [
    "## 7. Features Importance Ranking."
   ]
  },
  {
   "attachments": {},
   "cell_type": "markdown",
   "metadata": {},
   "source": [
    "This is a part where we need to analyze what are the most importance features after model training!"
   ]
  },
  {
   "attachments": {},
   "cell_type": "markdown",
   "metadata": {},
   "source": [
    "What are the most important features used in the model? | Important features to make predictions?"
   ]
  },
  {
   "attachments": {},
   "cell_type": "markdown",
   "metadata": {},
   "source": [
    "### 8. Model Evaluation with real data!"
   ]
  }
 ],
 "metadata": {
  "kernelspec": {
   "display_name": "env",
   "language": "python",
   "name": "python3"
  },
  "language_info": {
   "codemirror_mode": {
    "name": "ipython",
    "version": 3
   },
   "file_extension": ".py",
   "mimetype": "text/x-python",
   "name": "python",
   "nbconvert_exporter": "python",
   "pygments_lexer": "ipython3",
   "version": "3.9.10"
  },
  "orig_nbformat": 4
 },
 "nbformat": 4,
 "nbformat_minor": 2
}
